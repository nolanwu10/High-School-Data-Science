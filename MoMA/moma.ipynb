{
  "nbformat": 4,
  "nbformat_minor": 0,
  "metadata": {
    "colab": {
      "provenance": []
    },
    "kernelspec": {
      "name": "python3",
      "display_name": "Python 3"
    },
    "language_info": {
      "name": "python"
    }
  },
  "cells": [
    {
      "cell_type": "code",
      "execution_count": null,
      "metadata": {
        "id": "Pz6N0zkc1kAj"
      },
      "outputs": [],
      "source": [
        "import pandas as pd"
      ]
    },
    {
      "cell_type": "code",
      "source": [
        "df = pd.read_csv('/content/drive/MyDrive/data science /machine learning/artworks.csv')"
      ],
      "metadata": {
        "id": "fC1_jyoI1p9l"
      },
      "execution_count": null,
      "outputs": []
    },
    {
      "cell_type": "code",
      "source": [
        "df"
      ],
      "metadata": {
        "colab": {
          "base_uri": "https://localhost:8080/",
          "height": 832
        },
        "id": "heVxoE8-18Lw",
        "outputId": "5948e891-54bb-4ece-fb02-81aad591d256"
      },
      "execution_count": null,
      "outputs": [
        {
          "output_type": "execute_result",
          "data": {
            "text/plain": [
              "        Artwork ID                                              Title  \\\n",
              "0                2  Ferdinandsbrücke Project, Vienna, Austria, Ele...   \n",
              "1                3  City of Music, National Superior Conservatory ...   \n",
              "2                4  Villa near Vienna Project, Outside Vienna, Aus...   \n",
              "3                5  The Manhattan Transcripts Project, New York, N...   \n",
              "4                6  Villa, project, outside Vienna, Austria, Exter...   \n",
              "...            ...                                                ...   \n",
              "130257      217983                                        Seul/NY/MAX   \n",
              "130258      217984   Fluxus-Manifestatie in en Rond Kunsthandel Monet   \n",
              "130259      217985                             Fluxphone Compositions   \n",
              "130260      217986                                       Unidentified   \n",
              "130261      218011                           Portrait of Takako Saito   \n",
              "\n",
              "       Artist ID                      Name  Date  \\\n",
              "0           6210               Otto Wagner  1896   \n",
              "1           7470  Christian de Portzamparc  1987   \n",
              "2           7605                Emil Hoppe  1903   \n",
              "3           7056           Bernard Tschumi  1980   \n",
              "4           7605                Emil Hoppe  1903   \n",
              "...          ...                       ...   ...   \n",
              "130257      4469             Nam June Paik   NaN   \n",
              "130258       NaN                       NaN  1962   \n",
              "130259     67695                 Ely Ramen  1969   \n",
              "130260       NaN                       NaN   NaN   \n",
              "130261     21398           George Maciunas   NaN   \n",
              "\n",
              "                                                   Medium  \\\n",
              "0           Ink and cut-and-pasted painted pages on paper   \n",
              "1                       Paint and colored pencil on print   \n",
              "2       Graphite, pen, color pencil, ink, and gouache ...   \n",
              "3       Photographic reproduction with colored synthet...   \n",
              "4       Graphite, color pencil, ink, and gouache on tr...   \n",
              "...                                                   ...   \n",
              "130257                                                VHS   \n",
              "130258                                                VHS   \n",
              "130259                                           Cassette   \n",
              "130260                                           Cassette   \n",
              "130261                               Gelatin silver print   \n",
              "\n",
              "                                               Dimensions Acquisition Date  \\\n",
              "0                      19 1/8 x 66 1/2\" (48.6 x 168.9 cm)       1996-04-09   \n",
              "1                           16 x 11 3/4\" (40.6 x 29.8 cm)       1995-01-17   \n",
              "2                       13 1/2 x 12 1/2\" (34.3 x 31.8 cm)       1997-01-15   \n",
              "3                               20 x 20\" (50.8 x 50.8 cm)       1995-01-17   \n",
              "4                        15 1/8 x 7 1/2\" (38.4 x 19.1 cm)       1997-01-15   \n",
              "...                                                   ...              ...   \n",
              "130257                                                NaN       2008-10-08   \n",
              "130258                                                NaN       2008-10-08   \n",
              "130259                                                NaN       2008-10-08   \n",
              "130260                                                NaN       2008-10-08   \n",
              "130261  image: 7 1/2 × 7 1/2\" (19.1 × 19.1 cm); sheet:...       2008-10-08   \n",
              "\n",
              "                                                   Credit Catalogue  ...  \\\n",
              "0       Fractional and promised gift of Jo Carole and ...         Y  ...   \n",
              "1       Gift of the architect in honor of Lily Auchinc...         Y  ...   \n",
              "2                  Gift of Jo Carole and Ronald S. Lauder         Y  ...   \n",
              "3       Purchase and partial gift of the architect in ...         Y  ...   \n",
              "4                  Gift of Jo Carole and Ronald S. Lauder         Y  ...   \n",
              "...                                                   ...       ...  ...   \n",
              "130257  The Gilbert and Lila Silverman Fluxus Collecti...         N  ...   \n",
              "130258  The Gilbert and Lila Silverman Fluxus Collecti...         N  ...   \n",
              "130259  The Gilbert and Lila Silverman Fluxus Collecti...         N  ...   \n",
              "130260  The Gilbert and Lila Silverman Fluxus Collecti...         N  ...   \n",
              "130261  The Gilbert and Lila Silverman Fluxus Collecti...         N  ...   \n",
              "\n",
              "       Classification Object Number Diameter (cm)  Circumference (cm)  \\\n",
              "0        Architecture      885.1996           NaN                 NaN   \n",
              "1        Architecture        1.1995           NaN                 NaN   \n",
              "2        Architecture        1.1997           NaN                 NaN   \n",
              "3        Architecture        2.1995           NaN                 NaN   \n",
              "4        Architecture        2.1997           NaN                 NaN   \n",
              "...               ...           ...           ...                 ...   \n",
              "130257          Media        FC5038           NaN                 NaN   \n",
              "130258          Media        FC5039           NaN                 NaN   \n",
              "130259          Media        FC5040           NaN                 NaN   \n",
              "130260          Media        FC5041           NaN                 NaN   \n",
              "130261     Photograph     3841.2008           NaN                 NaN   \n",
              "\n",
              "        Height (cm)  Length (cm)  Width (cm)  Depth (cm)  Weight (kg)  \\\n",
              "0           48.6000          NaN    168.9000         NaN          NaN   \n",
              "1           40.6401          NaN     29.8451         NaN          NaN   \n",
              "2           34.3000          NaN     31.8000         NaN          NaN   \n",
              "3           50.8000          NaN     50.8000         NaN          NaN   \n",
              "4           38.4000          NaN     19.1000         NaN          NaN   \n",
              "...             ...          ...         ...         ...          ...   \n",
              "130257       0.0000          NaN      0.0000         0.0          NaN   \n",
              "130258       0.0000          NaN      0.0000         0.0          NaN   \n",
              "130259       0.0000          NaN      0.0000         0.0          NaN   \n",
              "130260       0.0000          NaN      0.0000         0.0          NaN   \n",
              "130261       0.0000          NaN      0.0000         0.0          NaN   \n",
              "\n",
              "        Duration (s)  \n",
              "0                NaN  \n",
              "1                NaN  \n",
              "2                NaN  \n",
              "3                NaN  \n",
              "4                NaN  \n",
              "...              ...  \n",
              "130257           NaN  \n",
              "130258           NaN  \n",
              "130259           NaN  \n",
              "130260           NaN  \n",
              "130261           NaN  \n",
              "\n",
              "[130262 rows x 21 columns]"
            ],
            "text/html": [
              "\n",
              "  <div id=\"df-8ba81f97-0193-4a3b-bcb0-f9a718cedfd0\">\n",
              "    <div class=\"colab-df-container\">\n",
              "      <div>\n",
              "<style scoped>\n",
              "    .dataframe tbody tr th:only-of-type {\n",
              "        vertical-align: middle;\n",
              "    }\n",
              "\n",
              "    .dataframe tbody tr th {\n",
              "        vertical-align: top;\n",
              "    }\n",
              "\n",
              "    .dataframe thead th {\n",
              "        text-align: right;\n",
              "    }\n",
              "</style>\n",
              "<table border=\"1\" class=\"dataframe\">\n",
              "  <thead>\n",
              "    <tr style=\"text-align: right;\">\n",
              "      <th></th>\n",
              "      <th>Artwork ID</th>\n",
              "      <th>Title</th>\n",
              "      <th>Artist ID</th>\n",
              "      <th>Name</th>\n",
              "      <th>Date</th>\n",
              "      <th>Medium</th>\n",
              "      <th>Dimensions</th>\n",
              "      <th>Acquisition Date</th>\n",
              "      <th>Credit</th>\n",
              "      <th>Catalogue</th>\n",
              "      <th>...</th>\n",
              "      <th>Classification</th>\n",
              "      <th>Object Number</th>\n",
              "      <th>Diameter (cm)</th>\n",
              "      <th>Circumference (cm)</th>\n",
              "      <th>Height (cm)</th>\n",
              "      <th>Length (cm)</th>\n",
              "      <th>Width (cm)</th>\n",
              "      <th>Depth (cm)</th>\n",
              "      <th>Weight (kg)</th>\n",
              "      <th>Duration (s)</th>\n",
              "    </tr>\n",
              "  </thead>\n",
              "  <tbody>\n",
              "    <tr>\n",
              "      <th>0</th>\n",
              "      <td>2</td>\n",
              "      <td>Ferdinandsbrücke Project, Vienna, Austria, Ele...</td>\n",
              "      <td>6210</td>\n",
              "      <td>Otto Wagner</td>\n",
              "      <td>1896</td>\n",
              "      <td>Ink and cut-and-pasted painted pages on paper</td>\n",
              "      <td>19 1/8 x 66 1/2\" (48.6 x 168.9 cm)</td>\n",
              "      <td>1996-04-09</td>\n",
              "      <td>Fractional and promised gift of Jo Carole and ...</td>\n",
              "      <td>Y</td>\n",
              "      <td>...</td>\n",
              "      <td>Architecture</td>\n",
              "      <td>885.1996</td>\n",
              "      <td>NaN</td>\n",
              "      <td>NaN</td>\n",
              "      <td>48.6000</td>\n",
              "      <td>NaN</td>\n",
              "      <td>168.9000</td>\n",
              "      <td>NaN</td>\n",
              "      <td>NaN</td>\n",
              "      <td>NaN</td>\n",
              "    </tr>\n",
              "    <tr>\n",
              "      <th>1</th>\n",
              "      <td>3</td>\n",
              "      <td>City of Music, National Superior Conservatory ...</td>\n",
              "      <td>7470</td>\n",
              "      <td>Christian de Portzamparc</td>\n",
              "      <td>1987</td>\n",
              "      <td>Paint and colored pencil on print</td>\n",
              "      <td>16 x 11 3/4\" (40.6 x 29.8 cm)</td>\n",
              "      <td>1995-01-17</td>\n",
              "      <td>Gift of the architect in honor of Lily Auchinc...</td>\n",
              "      <td>Y</td>\n",
              "      <td>...</td>\n",
              "      <td>Architecture</td>\n",
              "      <td>1.1995</td>\n",
              "      <td>NaN</td>\n",
              "      <td>NaN</td>\n",
              "      <td>40.6401</td>\n",
              "      <td>NaN</td>\n",
              "      <td>29.8451</td>\n",
              "      <td>NaN</td>\n",
              "      <td>NaN</td>\n",
              "      <td>NaN</td>\n",
              "    </tr>\n",
              "    <tr>\n",
              "      <th>2</th>\n",
              "      <td>4</td>\n",
              "      <td>Villa near Vienna Project, Outside Vienna, Aus...</td>\n",
              "      <td>7605</td>\n",
              "      <td>Emil Hoppe</td>\n",
              "      <td>1903</td>\n",
              "      <td>Graphite, pen, color pencil, ink, and gouache ...</td>\n",
              "      <td>13 1/2 x 12 1/2\" (34.3 x 31.8 cm)</td>\n",
              "      <td>1997-01-15</td>\n",
              "      <td>Gift of Jo Carole and Ronald S. Lauder</td>\n",
              "      <td>Y</td>\n",
              "      <td>...</td>\n",
              "      <td>Architecture</td>\n",
              "      <td>1.1997</td>\n",
              "      <td>NaN</td>\n",
              "      <td>NaN</td>\n",
              "      <td>34.3000</td>\n",
              "      <td>NaN</td>\n",
              "      <td>31.8000</td>\n",
              "      <td>NaN</td>\n",
              "      <td>NaN</td>\n",
              "      <td>NaN</td>\n",
              "    </tr>\n",
              "    <tr>\n",
              "      <th>3</th>\n",
              "      <td>5</td>\n",
              "      <td>The Manhattan Transcripts Project, New York, N...</td>\n",
              "      <td>7056</td>\n",
              "      <td>Bernard Tschumi</td>\n",
              "      <td>1980</td>\n",
              "      <td>Photographic reproduction with colored synthet...</td>\n",
              "      <td>20 x 20\" (50.8 x 50.8 cm)</td>\n",
              "      <td>1995-01-17</td>\n",
              "      <td>Purchase and partial gift of the architect in ...</td>\n",
              "      <td>Y</td>\n",
              "      <td>...</td>\n",
              "      <td>Architecture</td>\n",
              "      <td>2.1995</td>\n",
              "      <td>NaN</td>\n",
              "      <td>NaN</td>\n",
              "      <td>50.8000</td>\n",
              "      <td>NaN</td>\n",
              "      <td>50.8000</td>\n",
              "      <td>NaN</td>\n",
              "      <td>NaN</td>\n",
              "      <td>NaN</td>\n",
              "    </tr>\n",
              "    <tr>\n",
              "      <th>4</th>\n",
              "      <td>6</td>\n",
              "      <td>Villa, project, outside Vienna, Austria, Exter...</td>\n",
              "      <td>7605</td>\n",
              "      <td>Emil Hoppe</td>\n",
              "      <td>1903</td>\n",
              "      <td>Graphite, color pencil, ink, and gouache on tr...</td>\n",
              "      <td>15 1/8 x 7 1/2\" (38.4 x 19.1 cm)</td>\n",
              "      <td>1997-01-15</td>\n",
              "      <td>Gift of Jo Carole and Ronald S. Lauder</td>\n",
              "      <td>Y</td>\n",
              "      <td>...</td>\n",
              "      <td>Architecture</td>\n",
              "      <td>2.1997</td>\n",
              "      <td>NaN</td>\n",
              "      <td>NaN</td>\n",
              "      <td>38.4000</td>\n",
              "      <td>NaN</td>\n",
              "      <td>19.1000</td>\n",
              "      <td>NaN</td>\n",
              "      <td>NaN</td>\n",
              "      <td>NaN</td>\n",
              "    </tr>\n",
              "    <tr>\n",
              "      <th>...</th>\n",
              "      <td>...</td>\n",
              "      <td>...</td>\n",
              "      <td>...</td>\n",
              "      <td>...</td>\n",
              "      <td>...</td>\n",
              "      <td>...</td>\n",
              "      <td>...</td>\n",
              "      <td>...</td>\n",
              "      <td>...</td>\n",
              "      <td>...</td>\n",
              "      <td>...</td>\n",
              "      <td>...</td>\n",
              "      <td>...</td>\n",
              "      <td>...</td>\n",
              "      <td>...</td>\n",
              "      <td>...</td>\n",
              "      <td>...</td>\n",
              "      <td>...</td>\n",
              "      <td>...</td>\n",
              "      <td>...</td>\n",
              "      <td>...</td>\n",
              "    </tr>\n",
              "    <tr>\n",
              "      <th>130257</th>\n",
              "      <td>217983</td>\n",
              "      <td>Seul/NY/MAX</td>\n",
              "      <td>4469</td>\n",
              "      <td>Nam June Paik</td>\n",
              "      <td>NaN</td>\n",
              "      <td>VHS</td>\n",
              "      <td>NaN</td>\n",
              "      <td>2008-10-08</td>\n",
              "      <td>The Gilbert and Lila Silverman Fluxus Collecti...</td>\n",
              "      <td>N</td>\n",
              "      <td>...</td>\n",
              "      <td>Media</td>\n",
              "      <td>FC5038</td>\n",
              "      <td>NaN</td>\n",
              "      <td>NaN</td>\n",
              "      <td>0.0000</td>\n",
              "      <td>NaN</td>\n",
              "      <td>0.0000</td>\n",
              "      <td>0.0</td>\n",
              "      <td>NaN</td>\n",
              "      <td>NaN</td>\n",
              "    </tr>\n",
              "    <tr>\n",
              "      <th>130258</th>\n",
              "      <td>217984</td>\n",
              "      <td>Fluxus-Manifestatie in en Rond Kunsthandel Monet</td>\n",
              "      <td>NaN</td>\n",
              "      <td>NaN</td>\n",
              "      <td>1962</td>\n",
              "      <td>VHS</td>\n",
              "      <td>NaN</td>\n",
              "      <td>2008-10-08</td>\n",
              "      <td>The Gilbert and Lila Silverman Fluxus Collecti...</td>\n",
              "      <td>N</td>\n",
              "      <td>...</td>\n",
              "      <td>Media</td>\n",
              "      <td>FC5039</td>\n",
              "      <td>NaN</td>\n",
              "      <td>NaN</td>\n",
              "      <td>0.0000</td>\n",
              "      <td>NaN</td>\n",
              "      <td>0.0000</td>\n",
              "      <td>0.0</td>\n",
              "      <td>NaN</td>\n",
              "      <td>NaN</td>\n",
              "    </tr>\n",
              "    <tr>\n",
              "      <th>130259</th>\n",
              "      <td>217985</td>\n",
              "      <td>Fluxphone Compositions</td>\n",
              "      <td>67695</td>\n",
              "      <td>Ely Ramen</td>\n",
              "      <td>1969</td>\n",
              "      <td>Cassette</td>\n",
              "      <td>NaN</td>\n",
              "      <td>2008-10-08</td>\n",
              "      <td>The Gilbert and Lila Silverman Fluxus Collecti...</td>\n",
              "      <td>N</td>\n",
              "      <td>...</td>\n",
              "      <td>Media</td>\n",
              "      <td>FC5040</td>\n",
              "      <td>NaN</td>\n",
              "      <td>NaN</td>\n",
              "      <td>0.0000</td>\n",
              "      <td>NaN</td>\n",
              "      <td>0.0000</td>\n",
              "      <td>0.0</td>\n",
              "      <td>NaN</td>\n",
              "      <td>NaN</td>\n",
              "    </tr>\n",
              "    <tr>\n",
              "      <th>130260</th>\n",
              "      <td>217986</td>\n",
              "      <td>Unidentified</td>\n",
              "      <td>NaN</td>\n",
              "      <td>NaN</td>\n",
              "      <td>NaN</td>\n",
              "      <td>Cassette</td>\n",
              "      <td>NaN</td>\n",
              "      <td>2008-10-08</td>\n",
              "      <td>The Gilbert and Lila Silverman Fluxus Collecti...</td>\n",
              "      <td>N</td>\n",
              "      <td>...</td>\n",
              "      <td>Media</td>\n",
              "      <td>FC5041</td>\n",
              "      <td>NaN</td>\n",
              "      <td>NaN</td>\n",
              "      <td>0.0000</td>\n",
              "      <td>NaN</td>\n",
              "      <td>0.0000</td>\n",
              "      <td>0.0</td>\n",
              "      <td>NaN</td>\n",
              "      <td>NaN</td>\n",
              "    </tr>\n",
              "    <tr>\n",
              "      <th>130261</th>\n",
              "      <td>218011</td>\n",
              "      <td>Portrait of Takako Saito</td>\n",
              "      <td>21398</td>\n",
              "      <td>George Maciunas</td>\n",
              "      <td>NaN</td>\n",
              "      <td>Gelatin silver print</td>\n",
              "      <td>image: 7 1/2 × 7 1/2\" (19.1 × 19.1 cm); sheet:...</td>\n",
              "      <td>2008-10-08</td>\n",
              "      <td>The Gilbert and Lila Silverman Fluxus Collecti...</td>\n",
              "      <td>N</td>\n",
              "      <td>...</td>\n",
              "      <td>Photograph</td>\n",
              "      <td>3841.2008</td>\n",
              "      <td>NaN</td>\n",
              "      <td>NaN</td>\n",
              "      <td>0.0000</td>\n",
              "      <td>NaN</td>\n",
              "      <td>0.0000</td>\n",
              "      <td>0.0</td>\n",
              "      <td>NaN</td>\n",
              "      <td>NaN</td>\n",
              "    </tr>\n",
              "  </tbody>\n",
              "</table>\n",
              "<p>130262 rows × 21 columns</p>\n",
              "</div>\n",
              "      <button class=\"colab-df-convert\" onclick=\"convertToInteractive('df-8ba81f97-0193-4a3b-bcb0-f9a718cedfd0')\"\n",
              "              title=\"Convert this dataframe to an interactive table.\"\n",
              "              style=\"display:none;\">\n",
              "        \n",
              "  <svg xmlns=\"http://www.w3.org/2000/svg\" height=\"24px\"viewBox=\"0 0 24 24\"\n",
              "       width=\"24px\">\n",
              "    <path d=\"M0 0h24v24H0V0z\" fill=\"none\"/>\n",
              "    <path d=\"M18.56 5.44l.94 2.06.94-2.06 2.06-.94-2.06-.94-.94-2.06-.94 2.06-2.06.94zm-11 1L8.5 8.5l.94-2.06 2.06-.94-2.06-.94L8.5 2.5l-.94 2.06-2.06.94zm10 10l.94 2.06.94-2.06 2.06-.94-2.06-.94-.94-2.06-.94 2.06-2.06.94z\"/><path d=\"M17.41 7.96l-1.37-1.37c-.4-.4-.92-.59-1.43-.59-.52 0-1.04.2-1.43.59L10.3 9.45l-7.72 7.72c-.78.78-.78 2.05 0 2.83L4 21.41c.39.39.9.59 1.41.59.51 0 1.02-.2 1.41-.59l7.78-7.78 2.81-2.81c.8-.78.8-2.07 0-2.86zM5.41 20L4 18.59l7.72-7.72 1.47 1.35L5.41 20z\"/>\n",
              "  </svg>\n",
              "      </button>\n",
              "      \n",
              "  <style>\n",
              "    .colab-df-container {\n",
              "      display:flex;\n",
              "      flex-wrap:wrap;\n",
              "      gap: 12px;\n",
              "    }\n",
              "\n",
              "    .colab-df-convert {\n",
              "      background-color: #E8F0FE;\n",
              "      border: none;\n",
              "      border-radius: 50%;\n",
              "      cursor: pointer;\n",
              "      display: none;\n",
              "      fill: #1967D2;\n",
              "      height: 32px;\n",
              "      padding: 0 0 0 0;\n",
              "      width: 32px;\n",
              "    }\n",
              "\n",
              "    .colab-df-convert:hover {\n",
              "      background-color: #E2EBFA;\n",
              "      box-shadow: 0px 1px 2px rgba(60, 64, 67, 0.3), 0px 1px 3px 1px rgba(60, 64, 67, 0.15);\n",
              "      fill: #174EA6;\n",
              "    }\n",
              "\n",
              "    [theme=dark] .colab-df-convert {\n",
              "      background-color: #3B4455;\n",
              "      fill: #D2E3FC;\n",
              "    }\n",
              "\n",
              "    [theme=dark] .colab-df-convert:hover {\n",
              "      background-color: #434B5C;\n",
              "      box-shadow: 0px 1px 3px 1px rgba(0, 0, 0, 0.15);\n",
              "      filter: drop-shadow(0px 1px 2px rgba(0, 0, 0, 0.3));\n",
              "      fill: #FFFFFF;\n",
              "    }\n",
              "  </style>\n",
              "\n",
              "      <script>\n",
              "        const buttonEl =\n",
              "          document.querySelector('#df-8ba81f97-0193-4a3b-bcb0-f9a718cedfd0 button.colab-df-convert');\n",
              "        buttonEl.style.display =\n",
              "          google.colab.kernel.accessAllowed ? 'block' : 'none';\n",
              "\n",
              "        async function convertToInteractive(key) {\n",
              "          const element = document.querySelector('#df-8ba81f97-0193-4a3b-bcb0-f9a718cedfd0');\n",
              "          const dataTable =\n",
              "            await google.colab.kernel.invokeFunction('convertToInteractive',\n",
              "                                                     [key], {});\n",
              "          if (!dataTable) return;\n",
              "\n",
              "          const docLinkHtml = 'Like what you see? Visit the ' +\n",
              "            '<a target=\"_blank\" href=https://colab.research.google.com/notebooks/data_table.ipynb>data table notebook</a>'\n",
              "            + ' to learn more about interactive tables.';\n",
              "          element.innerHTML = '';\n",
              "          dataTable['output_type'] = 'display_data';\n",
              "          await google.colab.output.renderOutput(dataTable, element);\n",
              "          const docLink = document.createElement('div');\n",
              "          docLink.innerHTML = docLinkHtml;\n",
              "          element.appendChild(docLink);\n",
              "        }\n",
              "      </script>\n",
              "    </div>\n",
              "  </div>\n",
              "  "
            ]
          },
          "metadata": {},
          "execution_count": 4
        }
      ]
    },
    {
      "cell_type": "code",
      "source": [
        "artists = pd.read_csv('/content/drive/MyDrive/data science /machine learning/artists.csv')"
      ],
      "metadata": {
        "id": "ao7oRynn1_0b"
      },
      "execution_count": null,
      "outputs": []
    },
    {
      "cell_type": "code",
      "source": [
        "artists"
      ],
      "metadata": {
        "colab": {
          "base_uri": "https://localhost:8080/",
          "height": 423
        },
        "id": "kB5YJMtY2EO3",
        "outputId": "5565311e-6a31-4119-8df3-1ad177c90beb"
      },
      "execution_count": null,
      "outputs": [
        {
          "output_type": "execute_result",
          "data": {
            "text/plain": [
              "       Unnamed: 0  Artist ID             Name Nationality Gender  Birth Year  \\\n",
              "0               0          1   Robert Arneson    American   Male      1930.0   \n",
              "1               1          2   Doroteo Arnaiz     Spanish   Male      1936.0   \n",
              "2               2          3      Bill Arnold    American   Male      1941.0   \n",
              "3               3          4  Charles Arnoldi    American   Male      1946.0   \n",
              "4               4          5      Per Arnoldi      Danish   Male      1941.0   \n",
              "...           ...        ...              ...         ...    ...         ...   \n",
              "15086       15086      67452      Liu Jianhua     Chinese   Male      1962.0   \n",
              "15087       15087      67453         Leng Lin     Chinese   Male      1965.0   \n",
              "15088       15088      67652     Ellie Nagler         NaN    NaN         NaN   \n",
              "15089       15089      67694   Glenn Williams         NaN   Male         NaN   \n",
              "15090       15090      67695        Ely Ramen         NaN    NaN         NaN   \n",
              "\n",
              "       Death Year        country  \n",
              "0          1992.0  United States  \n",
              "1             NaN          Spain  \n",
              "2             NaN  United States  \n",
              "3             NaN  United States  \n",
              "4             NaN        Denmark  \n",
              "...           ...            ...  \n",
              "15086         NaN          China  \n",
              "15087         NaN          China  \n",
              "15088         NaN            NaN  \n",
              "15089         NaN            NaN  \n",
              "15090         NaN            NaN  \n",
              "\n",
              "[15091 rows x 8 columns]"
            ],
            "text/html": [
              "\n",
              "  <div id=\"df-2f9b72ee-6c25-43b0-8bf1-7ab08866f9b6\">\n",
              "    <div class=\"colab-df-container\">\n",
              "      <div>\n",
              "<style scoped>\n",
              "    .dataframe tbody tr th:only-of-type {\n",
              "        vertical-align: middle;\n",
              "    }\n",
              "\n",
              "    .dataframe tbody tr th {\n",
              "        vertical-align: top;\n",
              "    }\n",
              "\n",
              "    .dataframe thead th {\n",
              "        text-align: right;\n",
              "    }\n",
              "</style>\n",
              "<table border=\"1\" class=\"dataframe\">\n",
              "  <thead>\n",
              "    <tr style=\"text-align: right;\">\n",
              "      <th></th>\n",
              "      <th>Unnamed: 0</th>\n",
              "      <th>Artist ID</th>\n",
              "      <th>Name</th>\n",
              "      <th>Nationality</th>\n",
              "      <th>Gender</th>\n",
              "      <th>Birth Year</th>\n",
              "      <th>Death Year</th>\n",
              "      <th>country</th>\n",
              "    </tr>\n",
              "  </thead>\n",
              "  <tbody>\n",
              "    <tr>\n",
              "      <th>0</th>\n",
              "      <td>0</td>\n",
              "      <td>1</td>\n",
              "      <td>Robert Arneson</td>\n",
              "      <td>American</td>\n",
              "      <td>Male</td>\n",
              "      <td>1930.0</td>\n",
              "      <td>1992.0</td>\n",
              "      <td>United States</td>\n",
              "    </tr>\n",
              "    <tr>\n",
              "      <th>1</th>\n",
              "      <td>1</td>\n",
              "      <td>2</td>\n",
              "      <td>Doroteo Arnaiz</td>\n",
              "      <td>Spanish</td>\n",
              "      <td>Male</td>\n",
              "      <td>1936.0</td>\n",
              "      <td>NaN</td>\n",
              "      <td>Spain</td>\n",
              "    </tr>\n",
              "    <tr>\n",
              "      <th>2</th>\n",
              "      <td>2</td>\n",
              "      <td>3</td>\n",
              "      <td>Bill Arnold</td>\n",
              "      <td>American</td>\n",
              "      <td>Male</td>\n",
              "      <td>1941.0</td>\n",
              "      <td>NaN</td>\n",
              "      <td>United States</td>\n",
              "    </tr>\n",
              "    <tr>\n",
              "      <th>3</th>\n",
              "      <td>3</td>\n",
              "      <td>4</td>\n",
              "      <td>Charles Arnoldi</td>\n",
              "      <td>American</td>\n",
              "      <td>Male</td>\n",
              "      <td>1946.0</td>\n",
              "      <td>NaN</td>\n",
              "      <td>United States</td>\n",
              "    </tr>\n",
              "    <tr>\n",
              "      <th>4</th>\n",
              "      <td>4</td>\n",
              "      <td>5</td>\n",
              "      <td>Per Arnoldi</td>\n",
              "      <td>Danish</td>\n",
              "      <td>Male</td>\n",
              "      <td>1941.0</td>\n",
              "      <td>NaN</td>\n",
              "      <td>Denmark</td>\n",
              "    </tr>\n",
              "    <tr>\n",
              "      <th>...</th>\n",
              "      <td>...</td>\n",
              "      <td>...</td>\n",
              "      <td>...</td>\n",
              "      <td>...</td>\n",
              "      <td>...</td>\n",
              "      <td>...</td>\n",
              "      <td>...</td>\n",
              "      <td>...</td>\n",
              "    </tr>\n",
              "    <tr>\n",
              "      <th>15086</th>\n",
              "      <td>15086</td>\n",
              "      <td>67452</td>\n",
              "      <td>Liu Jianhua</td>\n",
              "      <td>Chinese</td>\n",
              "      <td>Male</td>\n",
              "      <td>1962.0</td>\n",
              "      <td>NaN</td>\n",
              "      <td>China</td>\n",
              "    </tr>\n",
              "    <tr>\n",
              "      <th>15087</th>\n",
              "      <td>15087</td>\n",
              "      <td>67453</td>\n",
              "      <td>Leng Lin</td>\n",
              "      <td>Chinese</td>\n",
              "      <td>Male</td>\n",
              "      <td>1965.0</td>\n",
              "      <td>NaN</td>\n",
              "      <td>China</td>\n",
              "    </tr>\n",
              "    <tr>\n",
              "      <th>15088</th>\n",
              "      <td>15088</td>\n",
              "      <td>67652</td>\n",
              "      <td>Ellie Nagler</td>\n",
              "      <td>NaN</td>\n",
              "      <td>NaN</td>\n",
              "      <td>NaN</td>\n",
              "      <td>NaN</td>\n",
              "      <td>NaN</td>\n",
              "    </tr>\n",
              "    <tr>\n",
              "      <th>15089</th>\n",
              "      <td>15089</td>\n",
              "      <td>67694</td>\n",
              "      <td>Glenn Williams</td>\n",
              "      <td>NaN</td>\n",
              "      <td>Male</td>\n",
              "      <td>NaN</td>\n",
              "      <td>NaN</td>\n",
              "      <td>NaN</td>\n",
              "    </tr>\n",
              "    <tr>\n",
              "      <th>15090</th>\n",
              "      <td>15090</td>\n",
              "      <td>67695</td>\n",
              "      <td>Ely Ramen</td>\n",
              "      <td>NaN</td>\n",
              "      <td>NaN</td>\n",
              "      <td>NaN</td>\n",
              "      <td>NaN</td>\n",
              "      <td>NaN</td>\n",
              "    </tr>\n",
              "  </tbody>\n",
              "</table>\n",
              "<p>15091 rows × 8 columns</p>\n",
              "</div>\n",
              "      <button class=\"colab-df-convert\" onclick=\"convertToInteractive('df-2f9b72ee-6c25-43b0-8bf1-7ab08866f9b6')\"\n",
              "              title=\"Convert this dataframe to an interactive table.\"\n",
              "              style=\"display:none;\">\n",
              "        \n",
              "  <svg xmlns=\"http://www.w3.org/2000/svg\" height=\"24px\"viewBox=\"0 0 24 24\"\n",
              "       width=\"24px\">\n",
              "    <path d=\"M0 0h24v24H0V0z\" fill=\"none\"/>\n",
              "    <path d=\"M18.56 5.44l.94 2.06.94-2.06 2.06-.94-2.06-.94-.94-2.06-.94 2.06-2.06.94zm-11 1L8.5 8.5l.94-2.06 2.06-.94-2.06-.94L8.5 2.5l-.94 2.06-2.06.94zm10 10l.94 2.06.94-2.06 2.06-.94-2.06-.94-.94-2.06-.94 2.06-2.06.94z\"/><path d=\"M17.41 7.96l-1.37-1.37c-.4-.4-.92-.59-1.43-.59-.52 0-1.04.2-1.43.59L10.3 9.45l-7.72 7.72c-.78.78-.78 2.05 0 2.83L4 21.41c.39.39.9.59 1.41.59.51 0 1.02-.2 1.41-.59l7.78-7.78 2.81-2.81c.8-.78.8-2.07 0-2.86zM5.41 20L4 18.59l7.72-7.72 1.47 1.35L5.41 20z\"/>\n",
              "  </svg>\n",
              "      </button>\n",
              "      \n",
              "  <style>\n",
              "    .colab-df-container {\n",
              "      display:flex;\n",
              "      flex-wrap:wrap;\n",
              "      gap: 12px;\n",
              "    }\n",
              "\n",
              "    .colab-df-convert {\n",
              "      background-color: #E8F0FE;\n",
              "      border: none;\n",
              "      border-radius: 50%;\n",
              "      cursor: pointer;\n",
              "      display: none;\n",
              "      fill: #1967D2;\n",
              "      height: 32px;\n",
              "      padding: 0 0 0 0;\n",
              "      width: 32px;\n",
              "    }\n",
              "\n",
              "    .colab-df-convert:hover {\n",
              "      background-color: #E2EBFA;\n",
              "      box-shadow: 0px 1px 2px rgba(60, 64, 67, 0.3), 0px 1px 3px 1px rgba(60, 64, 67, 0.15);\n",
              "      fill: #174EA6;\n",
              "    }\n",
              "\n",
              "    [theme=dark] .colab-df-convert {\n",
              "      background-color: #3B4455;\n",
              "      fill: #D2E3FC;\n",
              "    }\n",
              "\n",
              "    [theme=dark] .colab-df-convert:hover {\n",
              "      background-color: #434B5C;\n",
              "      box-shadow: 0px 1px 3px 1px rgba(0, 0, 0, 0.15);\n",
              "      filter: drop-shadow(0px 1px 2px rgba(0, 0, 0, 0.3));\n",
              "      fill: #FFFFFF;\n",
              "    }\n",
              "  </style>\n",
              "\n",
              "      <script>\n",
              "        const buttonEl =\n",
              "          document.querySelector('#df-2f9b72ee-6c25-43b0-8bf1-7ab08866f9b6 button.colab-df-convert');\n",
              "        buttonEl.style.display =\n",
              "          google.colab.kernel.accessAllowed ? 'block' : 'none';\n",
              "\n",
              "        async function convertToInteractive(key) {\n",
              "          const element = document.querySelector('#df-2f9b72ee-6c25-43b0-8bf1-7ab08866f9b6');\n",
              "          const dataTable =\n",
              "            await google.colab.kernel.invokeFunction('convertToInteractive',\n",
              "                                                     [key], {});\n",
              "          if (!dataTable) return;\n",
              "\n",
              "          const docLinkHtml = 'Like what you see? Visit the ' +\n",
              "            '<a target=\"_blank\" href=https://colab.research.google.com/notebooks/data_table.ipynb>data table notebook</a>'\n",
              "            + ' to learn more about interactive tables.';\n",
              "          element.innerHTML = '';\n",
              "          dataTable['output_type'] = 'display_data';\n",
              "          await google.colab.output.renderOutput(dataTable, element);\n",
              "          const docLink = document.createElement('div');\n",
              "          docLink.innerHTML = docLinkHtml;\n",
              "          element.appendChild(docLink);\n",
              "        }\n",
              "      </script>\n",
              "    </div>\n",
              "  </div>\n",
              "  "
            ]
          },
          "metadata": {},
          "execution_count": 6
        }
      ]
    },
    {
      "cell_type": "code",
      "source": [
        "df.isna().sum()"
      ],
      "metadata": {
        "colab": {
          "base_uri": "https://localhost:8080/"
        },
        "id": "x7lzeVrm3A5h",
        "outputId": "08d36772-3db8-4e6e-ffb5-0b332196fddf"
      },
      "execution_count": null,
      "outputs": [
        {
          "output_type": "execute_result",
          "data": {
            "text/plain": [
              "Artwork ID                 0\n",
              "Title                     52\n",
              "Artist ID               1460\n",
              "Name                    1460\n",
              "Date                    2312\n",
              "Medium                 11919\n",
              "Dimensions             11463\n",
              "Acquisition Date        5463\n",
              "Credit                  3070\n",
              "Catalogue                  0\n",
              "Department                 0\n",
              "Classification             0\n",
              "Object Number              0\n",
              "Diameter (cm)         128863\n",
              "Circumference (cm)    130252\n",
              "Height (cm)            18369\n",
              "Length (cm)           129526\n",
              "Width (cm)             19259\n",
              "Depth (cm)            118819\n",
              "Weight (kg)           129964\n",
              "Duration (s)          127178\n",
              "dtype: int64"
            ]
          },
          "metadata": {},
          "execution_count": 7
        }
      ]
    },
    {
      "cell_type": "code",
      "source": [
        "df.shape"
      ],
      "metadata": {
        "colab": {
          "base_uri": "https://localhost:8080/"
        },
        "id": "Z_KCErez6lBz",
        "outputId": "b78a8f80-211e-4589-daf9-22b111024823"
      },
      "execution_count": null,
      "outputs": [
        {
          "output_type": "execute_result",
          "data": {
            "text/plain": [
              "(130262, 21)"
            ]
          },
          "metadata": {},
          "execution_count": 5
        }
      ]
    },
    {
      "cell_type": "code",
      "source": [
        "df.size"
      ],
      "metadata": {
        "colab": {
          "base_uri": "https://localhost:8080/"
        },
        "id": "gHVDH_M35eju",
        "outputId": "69e10f51-ee1e-4660-adad-71a038126085"
      },
      "execution_count": null,
      "outputs": [
        {
          "output_type": "execute_result",
          "data": {
            "text/plain": [
              "2735502"
            ]
          },
          "metadata": {},
          "execution_count": 8
        }
      ]
    },
    {
      "cell_type": "code",
      "source": [
        "df.columns.tolist()"
      ],
      "metadata": {
        "colab": {
          "base_uri": "https://localhost:8080/"
        },
        "id": "vKEsrtgr3j2P",
        "outputId": "30e17d38-8310-438b-ac10-1123664b1a5f"
      },
      "execution_count": null,
      "outputs": [
        {
          "output_type": "execute_result",
          "data": {
            "text/plain": [
              "['Artwork ID',\n",
              " 'Title',\n",
              " 'Artist ID',\n",
              " 'Name',\n",
              " 'Date',\n",
              " 'Medium',\n",
              " 'Dimensions',\n",
              " 'Acquisition Date',\n",
              " 'Credit',\n",
              " 'Catalogue',\n",
              " 'Department',\n",
              " 'Classification',\n",
              " 'Object Number',\n",
              " 'Diameter (cm)',\n",
              " 'Circumference (cm)',\n",
              " 'Height (cm)',\n",
              " 'Length (cm)',\n",
              " 'Width (cm)',\n",
              " 'Depth (cm)',\n",
              " 'Weight (kg)',\n",
              " 'Duration (s)']"
            ]
          },
          "metadata": {},
          "execution_count": 9
        }
      ]
    },
    {
      "cell_type": "code",
      "source": [
        "import seaborn as sns\n",
        "import matplotlib.pyplot as plt"
      ],
      "metadata": {
        "id": "kbKCOLUN4LGI"
      },
      "execution_count": null,
      "outputs": []
    },
    {
      "cell_type": "code",
      "source": [
        "df['Year'] = pd.to_datetime(df['Date'], format='%Y', errors='coerce').dt.year"
      ],
      "metadata": {
        "id": "Jr1WFJ5j4X_3"
      },
      "execution_count": null,
      "outputs": []
    },
    {
      "cell_type": "code",
      "source": [
        "department_counts = df['Department'].value_counts().sort_values(ascending=False)\n",
        "plt.figure(figsize=(10, 6))\n",
        "sns.barplot(x=department_counts.index, y=department_counts.values, palette='viridis')\n",
        "plt.title('Number of Artworks in each Department')\n",
        "plt.xticks(rotation=90)\n",
        "plt.xlabel('Department')\n",
        "plt.ylabel('Count')\n",
        "plt.show()"
      ],
      "metadata": {
        "colab": {
          "base_uri": "https://localhost:8080/",
          "height": 816
        },
        "id": "d54EXcIy4drT",
        "outputId": "605891e9-0353-4a9f-a20e-9cd7e9e81db2"
      },
      "execution_count": null,
      "outputs": [
        {
          "output_type": "display_data",
          "data": {
            "text/plain": [
              "<Figure size 1000x600 with 1 Axes>"
            ],
            "image/png": "[encoded data removed]"
          },
          "metadata": {}
        }
      ]
    },
    {
      "cell_type": "code",
      "source": [
        "plt.figure(figsize=(10, 6))\n",
        "sns.scatterplot(x='Year', y='Height (cm)', data=df, hue='Department', palette='viridis')\n",
        "plt.title('Artwork Year vs. Height')\n",
        "plt.xlabel('Year')\n",
        "plt.ylabel('Height (cm)')\n",
        "plt.show()"
      ],
      "metadata": {
        "colab": {
          "base_uri": "https://localhost:8080/",
          "height": 564
        },
        "id": "b6-u1L0p4m0a",
        "outputId": "1db772db-a03a-495a-96eb-e8731616384f"
      },
      "execution_count": null,
      "outputs": [
        {
          "output_type": "display_data",
          "data": {
            "text/plain": [
              "<Figure size 1000x600 with 1 Axes>"
            ],
            "image/png": "[encoded data removed]"
          },
          "metadata": {}
        }
      ]
    },
    {
      "cell_type": "code",
      "source": [
        "df['Department']"
      ],
      "metadata": {
        "colab": {
          "base_uri": "https://localhost:8080/"
        },
        "id": "IC1wKmAy4tGX",
        "outputId": "6d6a1404-b850-4e41-e3a1-f17a4e7903b8"
      },
      "execution_count": null,
      "outputs": [
        {
          "output_type": "execute_result",
          "data": {
            "text/plain": [
              "0              Architecture & Design\n",
              "1              Architecture & Design\n",
              "2              Architecture & Design\n",
              "3              Architecture & Design\n",
              "4              Architecture & Design\n",
              "                     ...            \n",
              "130257             Fluxus Collection\n",
              "130258             Fluxus Collection\n",
              "130259             Fluxus Collection\n",
              "130260             Fluxus Collection\n",
              "130261    Prints & Illustrated Books\n",
              "Name: Department, Length: 130262, dtype: object"
            ]
          },
          "metadata": {},
          "execution_count": 14
        }
      ]
    },
    {
      "cell_type": "markdown",
      "source": [
        "Which artist has the most works in the museum collection or on display?"
      ],
      "metadata": {
        "id": "Kga2amRX6QN8"
      }
    },
    {
      "cell_type": "code",
      "source": [
        "df['Name'].value_counts().sort_values(ascending = False).head(1)"
      ],
      "metadata": {
        "colab": {
          "base_uri": "https://localhost:8080/"
        },
        "id": "p9iO3kQH6WnP",
        "outputId": "1a449edc-9fa8-47eb-ea47-9be4a09e95ce"
      },
      "execution_count": null,
      "outputs": [
        {
          "output_type": "execute_result",
          "data": {
            "text/plain": [
              "Eugène Atget    5050\n",
              "Name: Name, dtype: int64"
            ]
          },
          "metadata": {},
          "execution_count": 15
        }
      ]
    },
    {
      "cell_type": "markdown",
      "source": [
        "What is the largest work of art in the collection?"
      ],
      "metadata": {
        "id": "1qQSfxUX6zCj"
      }
    },
    {
      "cell_type": "code",
      "source": [
        "df['Area'] = (df['Height (cm)'] * df['Width (cm)'] / 10000)\n",
        "df.loc[df['Area'].idxmax()]"
      ],
      "metadata": {
        "colab": {
          "base_uri": "https://localhost:8080/"
        },
        "id": "WHWdFt9P6wS4",
        "outputId": "50b76760-a602-44bc-e05d-97c6b2579624"
      },
      "execution_count": null,
      "outputs": [
        {
          "output_type": "execute_result",
          "data": {
            "text/plain": [
              "Artwork ID                                                        35639\n",
              "Title                                                          Untitled\n",
              "Artist ID                                                           902\n",
              "Name                                                    James Lee Byars\n",
              "Date                                                          (1962-64)\n",
              "Medium                Japanese handmade white flax paper, hinged and...\n",
              "Dimensions            Folded: 36 x 36 x 3\" (91 x 91 x 7.6 cm) Unfold...\n",
              "Acquisition Date                                             1966-06-07\n",
              "Credit                                               Gift of the artist\n",
              "Catalogue                                                             Y\n",
              "Department                                                     Drawings\n",
              "Classification                                                  Drawing\n",
              "Object Number                                                  255.1966\n",
              "Diameter (cm)                                                     274.3\n",
              "Circumference (cm)                                                  NaN\n",
              "Height (cm)                                                      1097.3\n",
              "Length (cm)                                                         NaN\n",
              "Width (cm)                                                       9144.0\n",
              "Depth (cm)                                                          NaN\n",
              "Weight (kg)                                                         NaN\n",
              "Duration (s)                                                        NaN\n",
              "Year                                                                NaN\n",
              "Area                                                         1003.37112\n",
              "Name: 33718, dtype: object"
            ]
          },
          "metadata": {},
          "execution_count": 16
        }
      ]
    },
    {
      "cell_type": "markdown",
      "source": [
        "biggest donor"
      ],
      "metadata": {
        "id": "WMkefi3o7lIO"
      }
    },
    {
      "cell_type": "code",
      "source": [
        "df['Credit'].value_counts().sort_values(ascending = False).head(1)"
      ],
      "metadata": {
        "colab": {
          "base_uri": "https://localhost:8080/"
        },
        "id": "DctN-e9O7PDt",
        "outputId": "720f26d7-cdef-443a-e88c-9ca0f297964a"
      },
      "execution_count": null,
      "outputs": [
        {
          "output_type": "execute_result",
          "data": {
            "text/plain": [
              "The Louis E. Stern Collection    10927\n",
              "Name: Credit, dtype: int64"
            ]
          },
          "metadata": {},
          "execution_count": 17
        }
      ]
    },
    {
      "cell_type": "code",
      "source": [
        "df['Department'].value_counts()"
      ],
      "metadata": {
        "colab": {
          "base_uri": "https://localhost:8080/"
        },
        "id": "p7hocbzU7mBo",
        "outputId": "83ee7e27-59db-4ef5-a57f-f2a520631776"
      },
      "execution_count": null,
      "outputs": [
        {
          "output_type": "execute_result",
          "data": {
            "text/plain": [
              "Prints & Illustrated Books               60128\n",
              "Photography                              29161\n",
              "Architecture & Design                    18269\n",
              "Drawings                                 11027\n",
              "Painting & Sculpture                      3806\n",
              "Film                                      3088\n",
              "Media and Performance Art                 2627\n",
              "Fluxus Collection                         2135\n",
              "Architecture & Design - Image Archive       21\n",
              "Name: Department, dtype: int64"
            ]
          },
          "metadata": {},
          "execution_count": 18
        }
      ]
    },
    {
      "cell_type": "code",
      "source": [
        "df['Medium'].value_counts()"
      ],
      "metadata": {
        "colab": {
          "base_uri": "https://localhost:8080/"
        },
        "id": "iW6mJr8l7q5F",
        "outputId": "51d5cac7-fb74-4722-a100-ead47e0bedf6"
      },
      "execution_count": null,
      "outputs": [
        {
          "output_type": "execute_result",
          "data": {
            "text/plain": [
              "Gelatin silver print                                    14103\n",
              "Lithograph                                               7034\n",
              "Albumen silver print                                     4845\n",
              "Lithograph, printed in color                             1833\n",
              "Pencil on paper                                          1725\n",
              "                                                        ...  \n",
              "Relief and soft ground etching                              1\n",
              "Multiple of fireman's glove                                 1\n",
              "Photogravure and screenprint                                1\n",
              "Lithograph of tantalum nitride film on ceramic wafer        1\n",
              "Audio reel                                                  1\n",
              "Name: Medium, Length: 19348, dtype: int64"
            ]
          },
          "metadata": {},
          "execution_count": 19
        }
      ]
    },
    {
      "cell_type": "code",
      "source": [
        "df['Medium'].nunique()"
      ],
      "metadata": {
        "colab": {
          "base_uri": "https://localhost:8080/"
        },
        "id": "HJjl_kOUDBYL",
        "outputId": "c80c28aa-4e26-4737-c78a-d9cae03e1643"
      },
      "execution_count": null,
      "outputs": [
        {
          "output_type": "execute_result",
          "data": {
            "text/plain": [
              "13497"
            ]
          },
          "metadata": {},
          "execution_count": 65
        }
      ]
    },
    {
      "cell_type": "code",
      "source": [
        "df['Artwork ID'].count()"
      ],
      "metadata": {
        "colab": {
          "base_uri": "https://localhost:8080/"
        },
        "id": "rkilA6QXDN2f",
        "outputId": "632c395c-38c7-4e16-9290-9021b5326111"
      },
      "execution_count": null,
      "outputs": [
        {
          "output_type": "execute_result",
          "data": {
            "text/plain": [
              "84194"
            ]
          },
          "metadata": {},
          "execution_count": 66
        }
      ]
    },
    {
      "cell_type": "code",
      "source": [
        "df[df['Catalogue'] == 'Y'].count()"
      ],
      "metadata": {
        "colab": {
          "base_uri": "https://localhost:8080/"
        },
        "id": "JQ1FqBydDZgn",
        "outputId": "c0901583-4141-4432-eb6b-3d35816b7a1a"
      },
      "execution_count": null,
      "outputs": [
        {
          "output_type": "execute_result",
          "data": {
            "text/plain": [
              "Artwork ID            49809\n",
              "Title                 49809\n",
              "Artist ID             49809\n",
              "Name                  49809\n",
              "Date                  49809\n",
              "Medium                49745\n",
              "Dimensions            48526\n",
              "Acquisition Date      48525\n",
              "Credit                49809\n",
              "Catalogue             49809\n",
              "Department            49809\n",
              "Classification        49809\n",
              "Object Number         49809\n",
              "Diameter (cm)           703\n",
              "Circumference (cm)        8\n",
              "Height (cm)           44107\n",
              "Length (cm)             347\n",
              "Width (cm)            43653\n",
              "Depth (cm)             5145\n",
              "Weight (kg)             227\n",
              "Duration (s)           2231\n",
              "Year                  49809\n",
              "Area                  43444\n",
              "dtype: int64"
            ]
          },
          "metadata": {},
          "execution_count": 68
        }
      ]
    },
    {
      "cell_type": "code",
      "source": [
        "df['Date'] = pd.to_datetime(df['Date'], errors='coerce')"
      ],
      "metadata": {
        "colab": {
          "base_uri": "https://localhost:8080/"
        },
        "id": "-4ovESGM77Va",
        "outputId": "fe85543b-2d7e-4811-d1eb-412727979ffa"
      },
      "execution_count": null,
      "outputs": [
        {
          "output_type": "stream",
          "name": "stderr",
          "text": [
            "/usr/local/lib/python3.10/dist-packages/dateutil/parser/_parser.py:1207: UnknownTimezoneWarning: tzname M identified but not understood.  Pass `tzinfos` argument in order to correctly return a timezone-aware datetime.  In a future version, this will raise an exception.\n",
            "  warnings.warn(\"tzname {tzname} identified but not understood.  \"\n"
          ]
        }
      ]
    },
    {
      "cell_type": "code",
      "source": [
        "df['Year'] = df['Date'].dt.year\n"
      ],
      "metadata": {
        "id": "l7tx8MVD8kS3"
      },
      "execution_count": null,
      "outputs": []
    },
    {
      "cell_type": "code",
      "source": [
        "artworks_per_year = df.groupby('Year')['Artwork ID'].count()\n",
        "artworks_per_year.plot(kind='bar', figsize=(10, 6), xlabel='Year', ylabel='Number of Artworks', title='Number of Artworks per Year')"
      ],
      "metadata": {
        "colab": {
          "base_uri": "https://localhost:8080/",
          "height": 616
        },
        "id": "1k1IY2gd8rAI",
        "outputId": "9e3f49a0-f6a3-4292-f5f6-847417655b7a"
      },
      "execution_count": null,
      "outputs": [
        {
          "output_type": "execute_result",
          "data": {
            "text/plain": [
              "<Axes: title={'center': 'Number of Artworks per Year'}, xlabel='Year', ylabel='Number of Artworks'>"
            ]
          },
          "metadata": {},
          "execution_count": 22
        },
        {
          "output_type": "display_data",
          "data": {
            "text/plain": [
              "<Figure size 1000x600 with 1 Axes>"
            ],
            "image/png": "[encoded data removed]"
          },
          "metadata": {}
        }
      ]
    },
    {
      "cell_type": "code",
      "source": [
        "artists"
      ],
      "metadata": {
        "id": "2Kz2ZWoQ9DDS",
        "colab": {
          "base_uri": "https://localhost:8080/",
          "height": 423
        },
        "outputId": "83365ecb-dc88-49f7-d8c6-c38846cc5f06"
      },
      "execution_count": null,
      "outputs": [
        {
          "output_type": "execute_result",
          "data": {
            "text/plain": [
              "       Unnamed: 0  Artist ID             Name Nationality Gender  Birth Year  \\\n",
              "0               0          1   Robert Arneson    American   Male      1930.0   \n",
              "1               1          2   Doroteo Arnaiz     Spanish   Male      1936.0   \n",
              "2               2          3      Bill Arnold    American   Male      1941.0   \n",
              "3               3          4  Charles Arnoldi    American   Male      1946.0   \n",
              "4               4          5      Per Arnoldi      Danish   Male      1941.0   \n",
              "...           ...        ...              ...         ...    ...         ...   \n",
              "15086       15086      67452      Liu Jianhua     Chinese   Male      1962.0   \n",
              "15087       15087      67453         Leng Lin     Chinese   Male      1965.0   \n",
              "15088       15088      67652     Ellie Nagler         NaN    NaN         NaN   \n",
              "15089       15089      67694   Glenn Williams         NaN   Male         NaN   \n",
              "15090       15090      67695        Ely Ramen         NaN    NaN         NaN   \n",
              "\n",
              "       Death Year        country  \n",
              "0          1992.0  United States  \n",
              "1             NaN          Spain  \n",
              "2             NaN  United States  \n",
              "3             NaN  United States  \n",
              "4             NaN        Denmark  \n",
              "...           ...            ...  \n",
              "15086         NaN          China  \n",
              "15087         NaN          China  \n",
              "15088         NaN            NaN  \n",
              "15089         NaN            NaN  \n",
              "15090         NaN            NaN  \n",
              "\n",
              "[15091 rows x 8 columns]"
            ],
            "text/html": [
              "\n",
              "  <div id=\"df-0274d92d-1414-43aa-b023-956f1892f733\">\n",
              "    <div class=\"colab-df-container\">\n",
              "      <div>\n",
              "<style scoped>\n",
              "    .dataframe tbody tr th:only-of-type {\n",
              "        vertical-align: middle;\n",
              "    }\n",
              "\n",
              "    .dataframe tbody tr th {\n",
              "        vertical-align: top;\n",
              "    }\n",
              "\n",
              "    .dataframe thead th {\n",
              "        text-align: right;\n",
              "    }\n",
              "</style>\n",
              "<table border=\"1\" class=\"dataframe\">\n",
              "  <thead>\n",
              "    <tr style=\"text-align: right;\">\n",
              "      <th></th>\n",
              "      <th>Unnamed: 0</th>\n",
              "      <th>Artist ID</th>\n",
              "      <th>Name</th>\n",
              "      <th>Nationality</th>\n",
              "      <th>Gender</th>\n",
              "      <th>Birth Year</th>\n",
              "      <th>Death Year</th>\n",
              "      <th>country</th>\n",
              "    </tr>\n",
              "  </thead>\n",
              "  <tbody>\n",
              "    <tr>\n",
              "      <th>0</th>\n",
              "      <td>0</td>\n",
              "      <td>1</td>\n",
              "      <td>Robert Arneson</td>\n",
              "      <td>American</td>\n",
              "      <td>Male</td>\n",
              "      <td>1930.0</td>\n",
              "      <td>1992.0</td>\n",
              "      <td>United States</td>\n",
              "    </tr>\n",
              "    <tr>\n",
              "      <th>1</th>\n",
              "      <td>1</td>\n",
              "      <td>2</td>\n",
              "      <td>Doroteo Arnaiz</td>\n",
              "      <td>Spanish</td>\n",
              "      <td>Male</td>\n",
              "      <td>1936.0</td>\n",
              "      <td>NaN</td>\n",
              "      <td>Spain</td>\n",
              "    </tr>\n",
              "    <tr>\n",
              "      <th>2</th>\n",
              "      <td>2</td>\n",
              "      <td>3</td>\n",
              "      <td>Bill Arnold</td>\n",
              "      <td>American</td>\n",
              "      <td>Male</td>\n",
              "      <td>1941.0</td>\n",
              "      <td>NaN</td>\n",
              "      <td>United States</td>\n",
              "    </tr>\n",
              "    <tr>\n",
              "      <th>3</th>\n",
              "      <td>3</td>\n",
              "      <td>4</td>\n",
              "      <td>Charles Arnoldi</td>\n",
              "      <td>American</td>\n",
              "      <td>Male</td>\n",
              "      <td>1946.0</td>\n",
              "      <td>NaN</td>\n",
              "      <td>United States</td>\n",
              "    </tr>\n",
              "    <tr>\n",
              "      <th>4</th>\n",
              "      <td>4</td>\n",
              "      <td>5</td>\n",
              "      <td>Per Arnoldi</td>\n",
              "      <td>Danish</td>\n",
              "      <td>Male</td>\n",
              "      <td>1941.0</td>\n",
              "      <td>NaN</td>\n",
              "      <td>Denmark</td>\n",
              "    </tr>\n",
              "    <tr>\n",
              "      <th>...</th>\n",
              "      <td>...</td>\n",
              "      <td>...</td>\n",
              "      <td>...</td>\n",
              "      <td>...</td>\n",
              "      <td>...</td>\n",
              "      <td>...</td>\n",
              "      <td>...</td>\n",
              "      <td>...</td>\n",
              "    </tr>\n",
              "    <tr>\n",
              "      <th>15086</th>\n",
              "      <td>15086</td>\n",
              "      <td>67452</td>\n",
              "      <td>Liu Jianhua</td>\n",
              "      <td>Chinese</td>\n",
              "      <td>Male</td>\n",
              "      <td>1962.0</td>\n",
              "      <td>NaN</td>\n",
              "      <td>China</td>\n",
              "    </tr>\n",
              "    <tr>\n",
              "      <th>15087</th>\n",
              "      <td>15087</td>\n",
              "      <td>67453</td>\n",
              "      <td>Leng Lin</td>\n",
              "      <td>Chinese</td>\n",
              "      <td>Male</td>\n",
              "      <td>1965.0</td>\n",
              "      <td>NaN</td>\n",
              "      <td>China</td>\n",
              "    </tr>\n",
              "    <tr>\n",
              "      <th>15088</th>\n",
              "      <td>15088</td>\n",
              "      <td>67652</td>\n",
              "      <td>Ellie Nagler</td>\n",
              "      <td>NaN</td>\n",
              "      <td>NaN</td>\n",
              "      <td>NaN</td>\n",
              "      <td>NaN</td>\n",
              "      <td>NaN</td>\n",
              "    </tr>\n",
              "    <tr>\n",
              "      <th>15089</th>\n",
              "      <td>15089</td>\n",
              "      <td>67694</td>\n",
              "      <td>Glenn Williams</td>\n",
              "      <td>NaN</td>\n",
              "      <td>Male</td>\n",
              "      <td>NaN</td>\n",
              "      <td>NaN</td>\n",
              "      <td>NaN</td>\n",
              "    </tr>\n",
              "    <tr>\n",
              "      <th>15090</th>\n",
              "      <td>15090</td>\n",
              "      <td>67695</td>\n",
              "      <td>Ely Ramen</td>\n",
              "      <td>NaN</td>\n",
              "      <td>NaN</td>\n",
              "      <td>NaN</td>\n",
              "      <td>NaN</td>\n",
              "      <td>NaN</td>\n",
              "    </tr>\n",
              "  </tbody>\n",
              "</table>\n",
              "<p>15091 rows × 8 columns</p>\n",
              "</div>\n",
              "      <button class=\"colab-df-convert\" onclick=\"convertToInteractive('df-0274d92d-1414-43aa-b023-956f1892f733')\"\n",
              "              title=\"Convert this dataframe to an interactive table.\"\n",
              "              style=\"display:none;\">\n",
              "        \n",
              "  <svg xmlns=\"http://www.w3.org/2000/svg\" height=\"24px\"viewBox=\"0 0 24 24\"\n",
              "       width=\"24px\">\n",
              "    <path d=\"M0 0h24v24H0V0z\" fill=\"none\"/>\n",
              "    <path d=\"M18.56 5.44l.94 2.06.94-2.06 2.06-.94-2.06-.94-.94-2.06-.94 2.06-2.06.94zm-11 1L8.5 8.5l.94-2.06 2.06-.94-2.06-.94L8.5 2.5l-.94 2.06-2.06.94zm10 10l.94 2.06.94-2.06 2.06-.94-2.06-.94-.94-2.06-.94 2.06-2.06.94z\"/><path d=\"M17.41 7.96l-1.37-1.37c-.4-.4-.92-.59-1.43-.59-.52 0-1.04.2-1.43.59L10.3 9.45l-7.72 7.72c-.78.78-.78 2.05 0 2.83L4 21.41c.39.39.9.59 1.41.59.51 0 1.02-.2 1.41-.59l7.78-7.78 2.81-2.81c.8-.78.8-2.07 0-2.86zM5.41 20L4 18.59l7.72-7.72 1.47 1.35L5.41 20z\"/>\n",
              "  </svg>\n",
              "      </button>\n",
              "      \n",
              "  <style>\n",
              "    .colab-df-container {\n",
              "      display:flex;\n",
              "      flex-wrap:wrap;\n",
              "      gap: 12px;\n",
              "    }\n",
              "\n",
              "    .colab-df-convert {\n",
              "      background-color: #E8F0FE;\n",
              "      border: none;\n",
              "      border-radius: 50%;\n",
              "      cursor: pointer;\n",
              "      display: none;\n",
              "      fill: #1967D2;\n",
              "      height: 32px;\n",
              "      padding: 0 0 0 0;\n",
              "      width: 32px;\n",
              "    }\n",
              "\n",
              "    .colab-df-convert:hover {\n",
              "      background-color: #E2EBFA;\n",
              "      box-shadow: 0px 1px 2px rgba(60, 64, 67, 0.3), 0px 1px 3px 1px rgba(60, 64, 67, 0.15);\n",
              "      fill: #174EA6;\n",
              "    }\n",
              "\n",
              "    [theme=dark] .colab-df-convert {\n",
              "      background-color: #3B4455;\n",
              "      fill: #D2E3FC;\n",
              "    }\n",
              "\n",
              "    [theme=dark] .colab-df-convert:hover {\n",
              "      background-color: #434B5C;\n",
              "      box-shadow: 0px 1px 3px 1px rgba(0, 0, 0, 0.15);\n",
              "      filter: drop-shadow(0px 1px 2px rgba(0, 0, 0, 0.3));\n",
              "      fill: #FFFFFF;\n",
              "    }\n",
              "  </style>\n",
              "\n",
              "      <script>\n",
              "        const buttonEl =\n",
              "          document.querySelector('#df-0274d92d-1414-43aa-b023-956f1892f733 button.colab-df-convert');\n",
              "        buttonEl.style.display =\n",
              "          google.colab.kernel.accessAllowed ? 'block' : 'none';\n",
              "\n",
              "        async function convertToInteractive(key) {\n",
              "          const element = document.querySelector('#df-0274d92d-1414-43aa-b023-956f1892f733');\n",
              "          const dataTable =\n",
              "            await google.colab.kernel.invokeFunction('convertToInteractive',\n",
              "                                                     [key], {});\n",
              "          if (!dataTable) return;\n",
              "\n",
              "          const docLinkHtml = 'Like what you see? Visit the ' +\n",
              "            '<a target=\"_blank\" href=https://colab.research.google.com/notebooks/data_table.ipynb>data table notebook</a>'\n",
              "            + ' to learn more about interactive tables.';\n",
              "          element.innerHTML = '';\n",
              "          dataTable['output_type'] = 'display_data';\n",
              "          await google.colab.output.renderOutput(dataTable, element);\n",
              "          const docLink = document.createElement('div');\n",
              "          docLink.innerHTML = docLinkHtml;\n",
              "          element.appendChild(docLink);\n",
              "        }\n",
              "      </script>\n",
              "    </div>\n",
              "  </div>\n",
              "  "
            ]
          },
          "metadata": {},
          "execution_count": 23
        }
      ]
    },
    {
      "cell_type": "code",
      "source": [
        "artists['Nationality'].unique()"
      ],
      "metadata": {
        "colab": {
          "base_uri": "https://localhost:8080/"
        },
        "id": "iQi87QlvBYED",
        "outputId": "0bf31671-173b-4dab-de19-6c0e6b76aa41"
      },
      "execution_count": null,
      "outputs": [
        {
          "output_type": "execute_result",
          "data": {
            "text/plain": [
              "array(['American', 'Spanish', 'Danish', 'Italian', 'French', 'Estonian',\n",
              "       'Mexican', 'Swedish', nan, 'Israeli', 'British', 'Finnish',\n",
              "       'Polish', 'Japanese', 'Guatemalan', 'Colombian', 'Romanian',\n",
              "       'Russian', 'German', 'Argentine', 'Kuwaiti', 'Various', 'Belgian',\n",
              "       'Dutch', 'Norwegian', 'Nationality unknown', 'Chilean', 'Swiss',\n",
              "       'Costa Rican', 'Czech', 'Brazilian', 'Austrian', 'Canadian',\n",
              "       'Australian', 'Ukrainian', 'Hungarian', 'Haitian', 'Congolese',\n",
              "       'Bolivian', 'Cuban', 'Yugoslav', 'Portuguese', 'Indian',\n",
              "       'Icelandic', 'Irish', 'Guyanese', 'Uruguayan', 'Slovak',\n",
              "       'Croatian', 'Greek', 'Peruvian', 'Chinese', 'Venezuelan',\n",
              "       'Turkish', 'Panamanian', 'Algerian', 'Ecuadorian', 'South African',\n",
              "       'Iranian', 'Korean', 'Canadian Inuit', 'Paraguayan',\n",
              "       'Luxembourgish', 'Nicaraguan', 'Zimbabwean', 'Moroccan',\n",
              "       'Tanzanian', 'Bulgarian', 'Tunisian', 'Sudanese', 'Taiwanese',\n",
              "       'Ethiopian', 'Slovenian', 'Scottish', 'Latvian',\n",
              "       'Nationality Unknown', 'Senegalese', 'Thai', 'Lithuanian',\n",
              "       'Pakistani', 'Bahamian', 'Bosnian', 'Malian', 'Czechoslovakian',\n",
              "       'Georgian', 'New Zealander', 'Egyptian', 'Kenyan', 'Emirati',\n",
              "       'Nigerian', 'Cypriot', 'Albanian', 'Azerbaijani', 'Ivorian',\n",
              "       'Malaysian', 'Singaporean', 'Serbian', 'Tajik', 'Namibian',\n",
              "       'Cambodian', 'Ghanaian', 'Afghan', 'Native American', 'Lebanese',\n",
              "       'Kyrgyzstani', 'Vietnamese', 'nationality unknown', 'Ugandan',\n",
              "       'Cameroonian', 'Welsh', 'Mauritanian', 'Palestinian', 'Syrian',\n",
              "       'Iraqi', 'Saudi Arabian', 'Kazakhstani', 'Rwandan', 'Indonesian',\n",
              "       'Burkinabe', 'Macedonian', 'Filipino', 'Mozambican', 'Angolan',\n",
              "       'Puerto Rican', 'Catalan', 'Sahrawi'], dtype=object)"
            ]
          },
          "metadata": {},
          "execution_count": 24
        }
      ]
    },
    {
      "cell_type": "code",
      "source": [
        "country_dict = {'American': 'United States',\n",
        "                'Spanish': 'Spain',\n",
        "                'Danish': 'Denmark',\n",
        "                'Italian': 'Italy',\n",
        "                'French': 'France',\n",
        "                'Estonian': 'Estonia',\n",
        "                'Mexican': 'Mexico',\n",
        "                'Swedish': 'Sweden',\n",
        "                'Israeli': 'Israel',\n",
        "                'British': 'United Kingdom',\n",
        "                'Finnish': 'Finland',\n",
        "                'Polish': 'Poland',\n",
        "                'Japanese': 'Japan',\n",
        "                'Guatemalan': 'Guatemala',\n",
        "                'Colombian': 'Colombia',\n",
        "                'Romanian': 'Romania',\n",
        "                'Russian': 'Russia',\n",
        "                'German': 'Germany',\n",
        "                'Argentine': 'Argentina',\n",
        "                'Kuwaiti': 'Kuwait',\n",
        "                'Various': '',\n",
        "                'Belgian': 'Belgium',\n",
        "                'Dutch': 'Netherlands',\n",
        "                'Norwegian': 'Norway',\n",
        "                'Chilean': 'Chile',\n",
        "                'Swiss': 'Switzerland',\n",
        "                'Costa Rican': 'Costa Rica',\n",
        "                'Czech': 'Czech Republic',\n",
        "                'Brazilian': 'Brazil',\n",
        "                'Austrian': 'Austria',\n",
        "                'Canadian': 'Canada',\n",
        "                'Australian': 'Australia',\n",
        "                'Ukrainian': 'Ukraine',\n",
        "                'Hungarian': 'Hungary',\n",
        "                'Haitian': 'Haiti',\n",
        "                'Congolese': 'Congo',\n",
        "                'Bolivian': 'Bolivia',\n",
        "                'Cuban': 'Cuba',\n",
        "                'Yugoslav': 'Yugoslavia',\n",
        "                'Portuguese': 'Portugal',\n",
        "                'Indian': 'India',\n",
        "                'Icelandic': 'Iceland',\n",
        "                'Irish': 'Ireland',\n",
        "                'Guyanese': 'Guyana',\n",
        "                'Uruguayan': 'Uruguay',\n",
        "                'Slovak': 'Slovakia',\n",
        "                'Croatian': 'Croatia',\n",
        "                'Greek': 'Greece',\n",
        "                'Peruvian': 'Peru',\n",
        "                'Chinese': 'China',\n",
        "                'Venezuelan': 'Venezuela',\n",
        "                'Turkish': 'Turkey',\n",
        "                'Panamanian': 'Panama',\n",
        "                'Algerian': 'Algeria',\n",
        "                'Ecuadorian': 'Ecuador',\n",
        "                'South African': 'South Africa',\n",
        "                'Iranian': 'Iran',\n",
        "                'Korean': 'South Korea',\n",
        "                'Canadian Inuit': 'Canada',\n",
        "                'Paraguayan': 'Paraguay',\n",
        "                'Luxembourgish': 'Luxembourg',\n",
        "                'Nicaraguan': 'Nicaragua',\n",
        "                'Zimbabwean': 'Zimbabwe',\n",
        "                'Moroccan': 'Morocco',\n",
        "                'Tanzanian': 'Tanzania',\n",
        "                'Bulgarian': 'Bulgaria',\n",
        "                'Tunisian': 'Tunisia',\n",
        "                'Sudanese': 'Sudan',\n",
        "                'Taiwanese': 'Taiwan',\n",
        "                'Ethiopian': 'Ethiopia',\n",
        "                'Slovenian': 'Slovenia',\n",
        "                'Scottish': 'Scotland',\n",
        "                'Latvian': 'Latvia',\n",
        "                'Nationality Unknown': '',\n",
        "                'Senegalese': 'Senegal',\n",
        "                'Thai': 'Thailand',\n",
        "                'Lithuanian': 'Lithuania',\n",
        "                'Pakistani': 'Pakistan',\n",
        "                'Bahamian': 'Bahamas',\n",
        "                'Bosnian': 'Bosnia and Herzegovina',\n",
        "                'Malian': 'Mali',\n",
        "                'Czechoslovakian': 'Czech Republic',\n",
        "                'Georgian': 'Georgia',\n",
        "                'New Zealander': 'New Zealand',\n",
        "                'Egyptian': 'Egypt',\n",
        "                'Kenyan': 'Kenya',\n",
        "                'Emirati': 'United Arab Emirates',\n",
        "                'Nigerian': 'Nigeria',\n",
        "                'Cypriot': 'Cyprus',\n",
        "                'Albanian': 'Albania',\n",
        "                'Azerbaijani': 'Azerbaijan',\n",
        "                'Ivorian': \"Côte d'Ivoire\",\n",
        "                'Malaysian': 'Malaysia',\n",
        "                'Singaporean': 'Singapore',\n",
        "                'Serbian': 'Serbia',\n",
        "                'Tajik': 'Tajikistan',\n",
        "                'Namibian': 'Namibia',\n",
        "                'Cambodian': 'Cambodia',\n",
        "                'Ghanaian': 'Ghana',\n",
        "                'Afghan': 'Afghanistan',\n",
        "                'Native American': 'United States',\n",
        "                'Lebanese': 'Lebanon',\n",
        "                'Kyrgyzstani': 'Kyrgyzstan',\n",
        "                'Vietnamese': 'Vietnam',\n",
        "                'nationality unknown': 'Unknown',\n",
        "                'Ugandan': 'Uganda',\n",
        "                'Cameroonian': 'Cameroon',\n",
        "                'Welsh': 'Wales',\n",
        "                'Mauritanian': 'Mauritania',\n",
        "                'Palestinian': 'Palestine',\n",
        "                'Syrian': 'Syria',\n",
        "                'Iraqi': 'Iraq',\n",
        "                'Saudi Arabian': 'Saudi Arabia',\n",
        "                'Kazakhstani': 'Kazakhstan',\n",
        "                'Rwandan': 'Rwanda',\n",
        "                'Indonesian': 'Indonesia',\n",
        "                'Burkinabe': 'Burkina Faso',\n",
        "                'Macedonian': 'North Macedonia',\n",
        "                'Filipino': 'Philippines',\n",
        "                'Mozambican': 'Mozambique',\n",
        "                'Angolan': 'Angola',\n",
        "                'Puerto Rican': 'Puerto Rico',\n",
        "                'Catalan': 'Catalonia',\n",
        "                'Sahrawi': 'Western Sahara'}"
      ],
      "metadata": {
        "id": "ltL5wDEXCgYY"
      },
      "execution_count": null,
      "outputs": []
    },
    {
      "cell_type": "code",
      "source": [
        "artists['country'] = artists['Nationality'].map(country_dict)\n"
      ],
      "metadata": {
        "id": "7umX_HkUD3mJ"
      },
      "execution_count": null,
      "outputs": []
    },
    {
      "cell_type": "code",
      "source": [
        "artists.to_csv('/content/drive/MyDrive/data science /machine learning/artists.csv')"
      ],
      "metadata": {
        "id": "ttkc7XyWD9aL"
      },
      "execution_count": null,
      "outputs": []
    },
    {
      "cell_type": "markdown",
      "source": [
        "#  MACHINE LEARNING\n"
      ],
      "metadata": {
        "id": "gxHmaDFb65ak"
      }
    },
    {
      "cell_type": "code",
      "source": [
        "df.isna().sum()"
      ],
      "metadata": {
        "colab": {
          "base_uri": "https://localhost:8080/"
        },
        "id": "1qrMqbkS4gNF",
        "outputId": "bd2fadda-43ed-4086-df0e-ccbd8723c0b4"
      },
      "execution_count": null,
      "outputs": [
        {
          "output_type": "execute_result",
          "data": {
            "text/plain": [
              "Artwork ID                 0\n",
              "Title                     52\n",
              "Artist ID               1460\n",
              "Name                    1460\n",
              "Date                   44422\n",
              "Medium                 11919\n",
              "Dimensions             11463\n",
              "Acquisition Date        5463\n",
              "Credit                  3070\n",
              "Catalogue                  0\n",
              "Department                 0\n",
              "Classification             0\n",
              "Object Number              0\n",
              "Diameter (cm)         128863\n",
              "Circumference (cm)    130252\n",
              "Height (cm)            18369\n",
              "Length (cm)           129526\n",
              "Width (cm)             19259\n",
              "Depth (cm)            118819\n",
              "Weight (kg)           129964\n",
              "Duration (s)          127178\n",
              "Year                   44422\n",
              "Area                   19770\n",
              "dtype: int64"
            ]
          },
          "metadata": {},
          "execution_count": 31
        }
      ]
    },
    {
      "cell_type": "code",
      "source": [
        "df.dropna(subset=['Year'], inplace=True)"
      ],
      "metadata": {
        "id": "K3ZUChsE7dgb"
      },
      "execution_count": null,
      "outputs": []
    },
    {
      "cell_type": "code",
      "source": [
        "df['Name'].fillna('Unknown', inplace=True)"
      ],
      "metadata": {
        "id": "4yfcUDgF7hoE"
      },
      "execution_count": null,
      "outputs": []
    },
    {
      "cell_type": "code",
      "source": [
        "df.dropna(subset=['Credit'], inplace=True)"
      ],
      "metadata": {
        "id": "zWFZBlCk7tv6"
      },
      "execution_count": null,
      "outputs": []
    },
    {
      "cell_type": "code",
      "source": [
        "ml = df[['Year', 'Name', 'Department', 'Classification', 'Credit', 'Catalogue']]"
      ],
      "metadata": {
        "id": "SFeQVWaH71cJ"
      },
      "execution_count": null,
      "outputs": []
    },
    {
      "cell_type": "code",
      "source": [
        "ml['Year']"
      ],
      "metadata": {
        "colab": {
          "base_uri": "https://localhost:8080/"
        },
        "id": "JZMrtw3K8iHT",
        "outputId": "5255af59-dcc6-4f17-f569-33ba542113f2"
      },
      "execution_count": null,
      "outputs": [
        {
          "output_type": "execute_result",
          "data": {
            "text/plain": [
              "0         1896.0\n",
              "1         1987.0\n",
              "2         1903.0\n",
              "3         1980.0\n",
              "4         1903.0\n",
              "           ...  \n",
              "130215    1986.0\n",
              "130244    1959.0\n",
              "130255    1962.0\n",
              "130258    1962.0\n",
              "130259    1969.0\n",
              "Name: Year, Length: 84194, dtype: float64"
            ]
          },
          "metadata": {},
          "execution_count": 55
        }
      ]
    },
    {
      "cell_type": "code",
      "source": [
        "cat_cols = ['Name', 'Classification', 'Department', 'Credit', 'Catalogue']"
      ],
      "metadata": {
        "id": "mRaDOd6p9SUu"
      },
      "execution_count": null,
      "outputs": []
    },
    {
      "cell_type": "code",
      "source": [
        "from sklearn.preprocessing import LabelEncoder\n",
        "le = LabelEncoder()"
      ],
      "metadata": {
        "id": "aKKdSOBc9as5"
      },
      "execution_count": null,
      "outputs": []
    },
    {
      "cell_type": "code",
      "source": [
        "for col in cat_cols:\n",
        "    ml[col] = le.fit_transform(ml[col].astype(str))"
      ],
      "metadata": {
        "colab": {
          "base_uri": "https://localhost:8080/"
        },
        "id": "03fM8pqZ9cVD",
        "outputId": "7d8440af-a6b1-431e-feca-d0fdc2c253cc"
      },
      "execution_count": null,
      "outputs": [
        {
          "output_type": "stream",
          "name": "stderr",
          "text": [
            "<ipython-input-59-8e2a6eeabe62>:2: SettingWithCopyWarning: \n",
            "A value is trying to be set on a copy of a slice from a DataFrame.\n",
            "Try using .loc[row_indexer,col_indexer] = value instead\n",
            "\n",
            "See the caveats in the documentation: https://pandas.pydata.org/pandas-docs/stable/user_guide/indexing.html#returning-a-view-versus-a-copy\n",
            "  ml[col] = le.fit_transform(ml[col].astype(str))\n",
            "<ipython-input-59-8e2a6eeabe62>:2: SettingWithCopyWarning: \n",
            "A value is trying to be set on a copy of a slice from a DataFrame.\n",
            "Try using .loc[row_indexer,col_indexer] = value instead\n",
            "\n",
            "See the caveats in the documentation: https://pandas.pydata.org/pandas-docs/stable/user_guide/indexing.html#returning-a-view-versus-a-copy\n",
            "  ml[col] = le.fit_transform(ml[col].astype(str))\n",
            "<ipython-input-59-8e2a6eeabe62>:2: SettingWithCopyWarning: \n",
            "A value is trying to be set on a copy of a slice from a DataFrame.\n",
            "Try using .loc[row_indexer,col_indexer] = value instead\n",
            "\n",
            "See the caveats in the documentation: https://pandas.pydata.org/pandas-docs/stable/user_guide/indexing.html#returning-a-view-versus-a-copy\n",
            "  ml[col] = le.fit_transform(ml[col].astype(str))\n",
            "<ipython-input-59-8e2a6eeabe62>:2: SettingWithCopyWarning: \n",
            "A value is trying to be set on a copy of a slice from a DataFrame.\n",
            "Try using .loc[row_indexer,col_indexer] = value instead\n",
            "\n",
            "See the caveats in the documentation: https://pandas.pydata.org/pandas-docs/stable/user_guide/indexing.html#returning-a-view-versus-a-copy\n",
            "  ml[col] = le.fit_transform(ml[col].astype(str))\n",
            "<ipython-input-59-8e2a6eeabe62>:2: SettingWithCopyWarning: \n",
            "A value is trying to be set on a copy of a slice from a DataFrame.\n",
            "Try using .loc[row_indexer,col_indexer] = value instead\n",
            "\n",
            "See the caveats in the documentation: https://pandas.pydata.org/pandas-docs/stable/user_guide/indexing.html#returning-a-view-versus-a-copy\n",
            "  ml[col] = le.fit_transform(ml[col].astype(str))\n"
          ]
        }
      ]
    },
    {
      "cell_type": "code",
      "source": [
        "from sklearn.model_selection import train_test_split\n",
        "X_train, X_test, y_train, y_test = train_test_split(ml.drop('Year', axis=1), ml['Year'], test_size=0.2, random_state=3)"
      ],
      "metadata": {
        "id": "TLOFk7_X9-sU"
      },
      "execution_count": null,
      "outputs": []
    },
    {
      "cell_type": "code",
      "source": [
        "from sklearn.linear_model import LinearRegression\n",
        "model = LinearRegression()\n",
        "model.fit(X_train, y_train)"
      ],
      "metadata": {
        "colab": {
          "base_uri": "https://localhost:8080/",
          "height": 74
        },
        "id": "6S3BM23f8taA",
        "outputId": "31411ca3-afd1-47fe-b1f4-808a4bbbf179"
      },
      "execution_count": null,
      "outputs": [
        {
          "output_type": "execute_result",
          "data": {
            "text/plain": [
              "LinearRegression()"
            ],
            "text/html": [
              "<style>#sk-container-id-2 {color: black;background-color: white;}#sk-container-id-2 pre{padding: 0;}#sk-container-id-2 div.sk-toggleable {background-color: white;}#sk-container-id-2 label.sk-toggleable__label {cursor: pointer;display: block;width: 100%;margin-bottom: 0;padding: 0.3em;box-sizing: border-box;text-align: center;}#sk-container-id-2 label.sk-toggleable__label-arrow:before {content: \"▸\";float: left;margin-right: 0.25em;color: #696969;}#sk-container-id-2 label.sk-toggleable__label-arrow:hover:before {color: black;}#sk-container-id-2 div.sk-estimator:hover label.sk-toggleable__label-arrow:before {color: black;}#sk-container-id-2 div.sk-toggleable__content {max-height: 0;max-width: 0;overflow: hidden;text-align: left;background-color: #f0f8ff;}#sk-container-id-2 div.sk-toggleable__content pre {margin: 0.2em;color: black;border-radius: 0.25em;background-color: #f0f8ff;}#sk-container-id-2 input.sk-toggleable__control:checked~div.sk-toggleable__content {max-height: 200px;max-width: 100%;overflow: auto;}#sk-container-id-2 input.sk-toggleable__control:checked~label.sk-toggleable__label-arrow:before {content: \"▾\";}#sk-container-id-2 div.sk-estimator input.sk-toggleable__control:checked~label.sk-toggleable__label {background-color: #d4ebff;}#sk-container-id-2 div.sk-label input.sk-toggleable__control:checked~label.sk-toggleable__label {background-color: #d4ebff;}#sk-container-id-2 input.sk-hidden--visually {border: 0;clip: rect(1px 1px 1px 1px);clip: rect(1px, 1px, 1px, 1px);height: 1px;margin: -1px;overflow: hidden;padding: 0;position: absolute;width: 1px;}#sk-container-id-2 div.sk-estimator {font-family: monospace;background-color: #f0f8ff;border: 1px dotted black;border-radius: 0.25em;box-sizing: border-box;margin-bottom: 0.5em;}#sk-container-id-2 div.sk-estimator:hover {background-color: #d4ebff;}#sk-container-id-2 div.sk-parallel-item::after {content: \"\";width: 100%;border-bottom: 1px solid gray;flex-grow: 1;}#sk-container-id-2 div.sk-label:hover label.sk-toggleable__label {background-color: #d4ebff;}#sk-container-id-2 div.sk-serial::before {content: \"\";position: absolute;border-left: 1px solid gray;box-sizing: border-box;top: 0;bottom: 0;left: 50%;z-index: 0;}#sk-container-id-2 div.sk-serial {display: flex;flex-direction: column;align-items: center;background-color: white;padding-right: 0.2em;padding-left: 0.2em;position: relative;}#sk-container-id-2 div.sk-item {position: relative;z-index: 1;}#sk-container-id-2 div.sk-parallel {display: flex;align-items: stretch;justify-content: center;background-color: white;position: relative;}#sk-container-id-2 div.sk-item::before, #sk-container-id-2 div.sk-parallel-item::before {content: \"\";position: absolute;border-left: 1px solid gray;box-sizing: border-box;top: 0;bottom: 0;left: 50%;z-index: -1;}#sk-container-id-2 div.sk-parallel-item {display: flex;flex-direction: column;z-index: 1;position: relative;background-color: white;}#sk-container-id-2 div.sk-parallel-item:first-child::after {align-self: flex-end;width: 50%;}#sk-container-id-2 div.sk-parallel-item:last-child::after {align-self: flex-start;width: 50%;}#sk-container-id-2 div.sk-parallel-item:only-child::after {width: 0;}#sk-container-id-2 div.sk-dashed-wrapped {border: 1px dashed gray;margin: 0 0.4em 0.5em 0.4em;box-sizing: border-box;padding-bottom: 0.4em;background-color: white;}#sk-container-id-2 div.sk-label label {font-family: monospace;font-weight: bold;display: inline-block;line-height: 1.2em;}#sk-container-id-2 div.sk-label-container {text-align: center;}#sk-container-id-2 div.sk-container {/* jupyter's `normalize.less` sets `[hidden] { display: none; }` but bootstrap.min.css set `[hidden] { display: none !important; }` so we also need the `!important` here to be able to override the default hidden behavior on the sphinx rendered scikit-learn.org. See: https://github.com/scikit-learn/scikit-learn/issues/21755 */display: inline-block !important;position: relative;}#sk-container-id-2 div.sk-text-repr-fallback {display: none;}</style><div id=\"sk-container-id-2\" class=\"sk-top-container\"><div class=\"sk-text-repr-fallback\"><pre>LinearRegression()</pre><b>In a Jupyter environment, please rerun this cell to show the HTML representation or trust the notebook. <br />On GitHub, the HTML representation is unable to render, please try loading this page with nbviewer.org.</b></div><div class=\"sk-container\" hidden><div class=\"sk-item\"><div class=\"sk-estimator sk-toggleable\"><input class=\"sk-toggleable__control sk-hidden--visually\" id=\"sk-estimator-id-2\" type=\"checkbox\" checked><label for=\"sk-estimator-id-2\" class=\"sk-toggleable__label sk-toggleable__label-arrow\">LinearRegression</label><div class=\"sk-toggleable__content\"><pre>LinearRegression()</pre></div></div></div></div></div>"
            ]
          },
          "metadata": {},
          "execution_count": 63
        }
      ]
    },
    {
      "cell_type": "code",
      "source": [
        "from sklearn.metrics import r2_score, mean_squared_error\n",
        "y_pred = model.predict(X_test)\n",
        "print('R-squared:', r2_score(y_test, y_pred))\n",
        "print('RMSE:', mean_squared_error(y_test, y_pred, squared=False))"
      ],
      "metadata": {
        "colab": {
          "base_uri": "https://localhost:8080/"
        },
        "id": "CY4dMcPS98w4",
        "outputId": "5c1ddf5c-637d-4b6a-dcb9-93d9263bf8a0"
      },
      "execution_count": null,
      "outputs": [
        {
          "output_type": "stream",
          "name": "stdout",
          "text": [
            "R-squared: 0.0689774797674162\n",
            "RMSE: 32.68209818992669\n"
          ]
        }
      ]
    }
  ]
}