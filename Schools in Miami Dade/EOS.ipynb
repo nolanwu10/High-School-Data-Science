{
  "nbformat": 4,
  "nbformat_minor": 0,
  "metadata": {
    "colab": {
      "provenance": []
    },
    "kernelspec": {
      "name": "python3",
      "display_name": "Python 3"
    },
    "language_info": {
      "name": "python"
    }
  },
  "cells": [
    {
      "cell_type": "code",
      "execution_count": null,
      "metadata": {
        "id": "LXisY-Eq0D6V"
      },
      "outputs": [],
      "source": [
        "import pandas as pd"
      ]
    },
    {
      "cell_type": "code",
      "source": [
        "private = pd.read_csv('/content/drive/MyDrive/data science /EOS/Private_School.csv')"
      ],
      "metadata": {
        "id": "5-Y4DQjw3RH4"
      },
      "execution_count": null,
      "outputs": []
    },
    {
      "cell_type": "code",
      "source": [
        "charter = pd.read_csv('/content/drive/MyDrive/data science /EOS/Charter_School.csv')"
      ],
      "metadata": {
        "id": "1oUj0tyo7IPR"
      },
      "execution_count": null,
      "outputs": []
    },
    {
      "cell_type": "code",
      "source": [
        "public = pd.read_csv('/content/drive/MyDrive/data science /EOS/Public_School.csv')"
      ],
      "metadata": {
        "id": "FE8PLPer7Ljt"
      },
      "execution_count": null,
      "outputs": []
    },
    {
      "cell_type": "markdown",
      "source": [
        "Fixing datasets"
      ],
      "metadata": {
        "id": "OYWknQ8kBY6N"
      }
    },
    {
      "cell_type": "code",
      "source": [
        "charter.drop(columns = 'ID',inplace = True)"
      ],
      "metadata": {
        "id": "PuVWTgiWAa6C"
      },
      "execution_count": null,
      "outputs": []
    },
    {
      "cell_type": "code",
      "source": [
        "public.drop(columns = 'ID',inplace = True)"
      ],
      "metadata": {
        "id": "aqxATKrJAq0t"
      },
      "execution_count": null,
      "outputs": []
    },
    {
      "cell_type": "code",
      "source": [
        "public.drop(columns = 'TYPE', inplace = True)"
      ],
      "metadata": {
        "id": "UOqnj5Qz7lEH"
      },
      "execution_count": null,
      "outputs": []
    },
    {
      "cell_type": "code",
      "source": [
        "charter.drop(columns = 'WEBSITE', inplace = True)"
      ],
      "metadata": {
        "id": "5v9hDrYO76dE"
      },
      "execution_count": null,
      "outputs": []
    },
    {
      "cell_type": "code",
      "source": [
        "public.drop(columns = 'REGION', inplace = True)"
      ],
      "metadata": {
        "id": "HQN9AdEg8IfH"
      },
      "execution_count": null,
      "outputs": []
    },
    {
      "cell_type": "code",
      "source": [
        "private.drop(columns = 'TYPE', inplace = True)"
      ],
      "metadata": {
        "id": "_pmjw3Hk8gby"
      },
      "execution_count": null,
      "outputs": []
    },
    {
      "cell_type": "code",
      "source": [
        "charter.drop(columns = 'CAMPUS', inplace = True)"
      ],
      "metadata": {
        "id": "ogK0gwLB8snd"
      },
      "execution_count": null,
      "outputs": []
    },
    {
      "cell_type": "code",
      "source": [
        "public.drop(columns = 'CAMPUS', inplace = True)"
      ],
      "metadata": {
        "id": "AuO87m8985eV"
      },
      "execution_count": null,
      "outputs": []
    },
    {
      "cell_type": "code",
      "source": [
        "private = private[[c for c in private if c not in ['DIRCTNAME', 'YEARESTB', 'CHLDCAREID']]\n",
        "       + ['DIRCTNAME', 'YEARESTB','CHLDCAREID']]"
      ],
      "metadata": {
        "id": "EC8P3LDH_r9q"
      },
      "execution_count": null,
      "outputs": []
    },
    {
      "cell_type": "code",
      "source": [
        "private.drop(columns = ['COED','STREGFLG'], inplace = True)"
      ],
      "metadata": {
        "colab": {
          "base_uri": "https://localhost:8080/"
        },
        "id": "UEbNKwciAxEQ",
        "outputId": "a2582ed5-c8ae-40a1-914f-3126fe88717b"
      },
      "execution_count": null,
      "outputs": [
        {
          "output_type": "stream",
          "name": "stderr",
          "text": [
            "/usr/local/lib/python3.8/dist-packages/pandas/core/frame.py:4906: SettingWithCopyWarning: \n",
            "A value is trying to be set on a copy of a slice from a DataFrame\n",
            "\n",
            "See the caveats in the documentation: https://pandas.pydata.org/pandas-docs/stable/user_guide/indexing.html#returning-a-view-versus-a-copy\n",
            "  return super().drop(\n"
          ]
        }
      ]
    },
    {
      "cell_type": "markdown",
      "source": [
        "combining the datasets"
      ],
      "metadata": {
        "id": "I2EzEIVc7QGD"
      }
    },
    {
      "cell_type": "code",
      "source": [
        "private['TYPE'] = 'Private'"
      ],
      "metadata": {
        "id": "ATdl_RAxDv4l",
        "colab": {
          "base_uri": "https://localhost:8080/"
        },
        "outputId": "d340f0a1-447a-4ea7-a8eb-9d9ba5e9eb8a"
      },
      "execution_count": null,
      "outputs": [
        {
          "output_type": "stream",
          "name": "stderr",
          "text": [
            "<ipython-input-15-6d182227aa3e>:1: SettingWithCopyWarning: \n",
            "A value is trying to be set on a copy of a slice from a DataFrame.\n",
            "Try using .loc[row_indexer,col_indexer] = value instead\n",
            "\n",
            "See the caveats in the documentation: https://pandas.pydata.org/pandas-docs/stable/user_guide/indexing.html#returning-a-view-versus-a-copy\n",
            "  private['TYPE'] = 'Private'\n"
          ]
        }
      ]
    },
    {
      "cell_type": "code",
      "source": [
        "charter['TYPE'] = 'Charter'"
      ],
      "metadata": {
        "id": "nFRpD3xYEciV"
      },
      "execution_count": null,
      "outputs": []
    },
    {
      "cell_type": "code",
      "source": [
        "public['TYPE'] = 'Public'"
      ],
      "metadata": {
        "id": "qpeMkiJ-EfnJ"
      },
      "execution_count": null,
      "outputs": []
    },
    {
      "cell_type": "code",
      "source": [
        "private.rename(columns={'GRDLEVEL': 'GRADE'}, inplace = True)"
      ],
      "metadata": {
        "id": "PUK9_OGj4Pin",
        "outputId": "44a121fc-d9b5-4b30-8411-a7adfb759c37",
        "colab": {
          "base_uri": "https://localhost:8080/"
        }
      },
      "execution_count": null,
      "outputs": [
        {
          "output_type": "stream",
          "name": "stderr",
          "text": [
            "/usr/local/lib/python3.8/dist-packages/pandas/core/frame.py:5039: SettingWithCopyWarning: \n",
            "A value is trying to be set on a copy of a slice from a DataFrame\n",
            "\n",
            "See the caveats in the documentation: https://pandas.pydata.org/pandas-docs/stable/user_guide/indexing.html#returning-a-view-versus-a-copy\n",
            "  return super().rename(\n"
          ]
        }
      ]
    },
    {
      "cell_type": "code",
      "source": [
        "private['GRADE']"
      ],
      "metadata": {
        "colab": {
          "base_uri": "https://localhost:8080/"
        },
        "id": "EGr0cz5-5OxD",
        "outputId": "a23b6275-c653-47a8-8c87-7327196b8dda"
      },
      "execution_count": null,
      "outputs": [
        {
          "output_type": "execute_result",
          "data": {
            "text/plain": [
              "0      PK-12\n",
              "1      PK-12\n",
              "2      PK-04\n",
              "3      PK-05\n",
              "4      PK-KG\n",
              "       ...  \n",
              "972    09-12\n",
              "973    09-12\n",
              "974    KG-12\n",
              "975    07-12\n",
              "976    PK-03\n",
              "Name: GRADE, Length: 977, dtype: object"
            ]
          },
          "metadata": {},
          "execution_count": 19
        }
      ]
    },
    {
      "cell_type": "code",
      "source": [
        "charter['GRADE']"
      ],
      "metadata": {
        "colab": {
          "base_uri": "https://localhost:8080/"
        },
        "id": "w1mOPrvU4_3y",
        "outputId": "ef1b8d84-5e4d-44cf-ac0d-4ff9f8c0073e"
      },
      "execution_count": null,
      "outputs": [
        {
          "output_type": "execute_result",
          "data": {
            "text/plain": [
              "0         K-5\n",
              "1       8-Jun\n",
              "2         K-6\n",
              "3       8-Jun\n",
              "4      12-Jun\n",
              "        ...  \n",
              "170    12-Sep\n",
              "171    12-Sep\n",
              "172    12-Sep\n",
              "173    12-Sep\n",
              "174     8-Jun\n",
              "Name: GRADE, Length: 175, dtype: object"
            ]
          },
          "metadata": {},
          "execution_count": 20
        }
      ]
    },
    {
      "cell_type": "code",
      "source": [
        "public.rename(columns={'GRADES': 'GRADE'}, inplace = True)"
      ],
      "metadata": {
        "id": "qyIMq5vX5Y-W"
      },
      "execution_count": null,
      "outputs": []
    },
    {
      "cell_type": "code",
      "source": [
        "public['GRADE']"
      ],
      "metadata": {
        "id": "bAMSSEox5hwz",
        "outputId": "50609ece-2e8a-45bf-e7b2-ad6feba8426b",
        "colab": {
          "base_uri": "https://localhost:8080/"
        }
      },
      "execution_count": null,
      "outputs": [
        {
          "output_type": "execute_result",
          "data": {
            "text/plain": [
              "0      12-Sep\n",
              "1       PK-10\n",
              "2        PK-5\n",
              "3        PK-5\n",
              "4       8-Jun\n",
              "        ...  \n",
              "437      PK-5\n",
              "438      PK-5\n",
              "439      PK-8\n",
              "440      PK-3\n",
              "441    12-Sep\n",
              "Name: GRADE, Length: 442, dtype: object"
            ]
          },
          "metadata": {},
          "execution_count": 22
        }
      ]
    },
    {
      "cell_type": "code",
      "source": [
        "schools = pd.concat([private,charter,public])"
      ],
      "metadata": {
        "id": "BjtD8W577PUW"
      },
      "execution_count": null,
      "outputs": []
    },
    {
      "cell_type": "markdown",
      "source": [
        "Number of schools in miami dade"
      ],
      "metadata": {
        "id": "1Oe5iE65jwbF"
      }
    },
    {
      "cell_type": "code",
      "source": [
        "schools['NAME'].count()"
      ],
      "metadata": {
        "colab": {
          "base_uri": "https://localhost:8080/"
        },
        "id": "NEaJD3d3AuBi",
        "outputId": "ae1ebc4f-193e-4aa8-cff4-2c39c18191a0"
      },
      "execution_count": null,
      "outputs": [
        {
          "output_type": "execute_result",
          "data": {
            "text/plain": [
              "1594"
            ]
          },
          "metadata": {},
          "execution_count": 24
        }
      ]
    },
    {
      "cell_type": "markdown",
      "source": [
        "number of schools per type of school"
      ],
      "metadata": {
        "id": "Ym57iBKUjys-"
      }
    },
    {
      "cell_type": "code",
      "source": [
        "schools.groupby('TYPE')['NAME'].count()"
      ],
      "metadata": {
        "colab": {
          "base_uri": "https://localhost:8080/"
        },
        "id": "GvGOfj2lTzKY",
        "outputId": "2b205b7b-9ad9-4815-aa6a-4a3d0b5fcaf4"
      },
      "execution_count": null,
      "outputs": [
        {
          "output_type": "execute_result",
          "data": {
            "text/plain": [
              "TYPE\n",
              "Charter    175\n",
              "Private    977\n",
              "Public     442\n",
              "Name: NAME, dtype: int64"
            ]
          },
          "metadata": {},
          "execution_count": 42
        }
      ]
    },
    {
      "cell_type": "markdown",
      "source": [
        "total amount of students enrolled"
      ],
      "metadata": {
        "id": "XfOLwBS6j0Yx"
      }
    },
    {
      "cell_type": "code",
      "source": [
        "schools['ENROLLMENT'].sum()"
      ],
      "metadata": {
        "colab": {
          "base_uri": "https://localhost:8080/"
        },
        "id": "5jTKgggFUAd9",
        "outputId": "55e7654f-2165-4871-91ee-52180917cae5"
      },
      "execution_count": null,
      "outputs": [
        {
          "output_type": "execute_result",
          "data": {
            "text/plain": [
              "429479.0"
            ]
          },
          "metadata": {},
          "execution_count": 44
        }
      ]
    },
    {
      "cell_type": "code",
      "source": [
        "schools.groupby('TYPE')['ENROLLMENT'].sum().round()"
      ],
      "metadata": {
        "id": "C1Kd3QrXUedV",
        "outputId": "4a8373a5-f720-4c4a-812e-f6a19ea9582f",
        "colab": {
          "base_uri": "https://localhost:8080/"
        }
      },
      "execution_count": null,
      "outputs": [
        {
          "output_type": "execute_result",
          "data": {
            "text/plain": [
              "TYPE\n",
              "Charter     48380.0\n",
              "Private    105610.0\n",
              "Public     275489.0\n",
              "Name: ENROLLMENT, dtype: float64"
            ]
          },
          "metadata": {},
          "execution_count": 46
        }
      ]
    },
    {
      "cell_type": "code",
      "source": [
        "schools.to_csv('/content/drive/MyDrive/data science /EOS/schools.csv')"
      ],
      "metadata": {
        "id": "BxnwfVokDAyl"
      },
      "execution_count": null,
      "outputs": []
    },
    {
      "cell_type": "markdown",
      "source": [
        "largest and smallest school by enrollment"
      ],
      "metadata": {
        "id": "QF9q1kHCEAi4"
      }
    },
    {
      "cell_type": "code",
      "source": [
        "schools.groupby('NAME')['ENROLLMENT'].sum().sort_values(ascending = False).head(1)"
      ],
      "metadata": {
        "colab": {
          "base_uri": "https://localhost:8080/"
        },
        "id": "CVIwKilpD55N",
        "outputId": "a38d5345-893b-4b3f-f3d1-4981a4341293"
      },
      "execution_count": null,
      "outputs": [
        {
          "output_type": "execute_result",
          "data": {
            "text/plain": [
              "NAME\n",
              "John A. Ferguson Senior High    4162.0\n",
              "Name: ENROLLMENT, dtype: float64"
            ]
          },
          "metadata": {},
          "execution_count": 26
        }
      ]
    },
    {
      "cell_type": "code",
      "source": [
        "schools.groupby('NAME')['ENROLLMENT'].sum().sort_values().head(1)"
      ],
      "metadata": {
        "colab": {
          "base_uri": "https://localhost:8080/"
        },
        "id": "k8Cd6INXEhkd",
        "outputId": "62ad6672-c5f3-4853-8e3e-43d77ed080fb"
      },
      "execution_count": null,
      "outputs": [
        {
          "output_type": "execute_result",
          "data": {
            "text/plain": [
              "NAME\n",
              "Creative Extended Care Center Inc    0.0\n",
              "Name: ENROLLMENT, dtype: float64"
            ]
          },
          "metadata": {},
          "execution_count": 27
        }
      ]
    },
    {
      "cell_type": "markdown",
      "source": [
        "nubmer of schools per city"
      ],
      "metadata": {
        "id": "V8P7XwFej4RW"
      }
    },
    {
      "cell_type": "code",
      "source": [
        "schools.groupby('CITY')['NAME'].count()"
      ],
      "metadata": {
        "id": "OHHaoXerGCZu",
        "outputId": "14b7e1a0-c5c2-4a3a-9638-f532f8b25a6e",
        "colab": {
          "base_uri": "https://localhost:8080/"
        }
      },
      "execution_count": null,
      "outputs": [
        {
          "output_type": "execute_result",
          "data": {
            "text/plain": [
              "CITY\n",
              "Aventura                6\n",
              "Bay Harbor Islands      1\n",
              "Biscayne Park           1\n",
              "Coral Gables           29\n",
              "Cutler Bay             17\n",
              "Doral                  43\n",
              "El Portal               2\n",
              "Florida City           18\n",
              "Hialeah               169\n",
              "Hialeah                 1\n",
              "Hialeah Gardens        21\n",
              "Homestead              82\n",
              "Key Biscayne            4\n",
              "Medley                  1\n",
              "Miami                 368\n",
              "Miami Beach            28\n",
              "Miami Gardens          79\n",
              "Miami Lakes            26\n",
              "Miami Shore             1\n",
              "Miami Shores            8\n",
              "Miami Springs          20\n",
              "Miami-Dade            470\n",
              "MiamiI Beach            6\n",
              "MiamiI-Dade            46\n",
              "North Bay Village       2\n",
              "North Miami            38\n",
              "North Miami Beach      34\n",
              "Opa-Locka              21\n",
              "Palmetto Bay           17\n",
              "Pinecrest              14\n",
              "South Miami            12\n",
              "Sunny Isles Beach       1\n",
              "Surfside                1\n",
              "Sweetwater              1\n",
              "Virginia Gardens        1\n",
              "West Miami              2\n",
              "Name: NAME, dtype: int64"
            ]
          },
          "metadata": {},
          "execution_count": 31
        }
      ]
    },
    {
      "cell_type": "markdown",
      "source": [
        "Average size per type of school"
      ],
      "metadata": {
        "id": "qRakHT9Oj6L6"
      }
    },
    {
      "cell_type": "code",
      "source": [
        "schools.groupby('TYPE')['ENROLLMENT'].mean().round()"
      ],
      "metadata": {
        "colab": {
          "base_uri": "https://localhost:8080/"
        },
        "id": "3lZiE3WJMJYK",
        "outputId": "8446d0b7-9481-47cb-fbd5-b2740f79e443"
      },
      "execution_count": null,
      "outputs": [
        {
          "output_type": "execute_result",
          "data": {
            "text/plain": [
              "TYPE\n",
              "Charter    291.0\n",
              "Private    140.0\n",
              "Public     623.0\n",
              "Name: ENROLLMENT, dtype: float64"
            ]
          },
          "metadata": {},
          "execution_count": 33
        }
      ]
    },
    {
      "cell_type": "code",
      "source": [
        "schools['ENROLLMENT'].mean().round()"
      ],
      "metadata": {
        "colab": {
          "base_uri": "https://localhost:8080/"
        },
        "id": "ASZ4j00oMWXB",
        "outputId": "85678cde-0f38-484f-9584-183170b6d1cf"
      },
      "execution_count": null,
      "outputs": [
        {
          "output_type": "execute_result",
          "data": {
            "text/plain": [
              "315.0"
            ]
          },
          "metadata": {},
          "execution_count": 35
        }
      ]
    },
    {
      "cell_type": "markdown",
      "source": [
        "enrollment per city"
      ],
      "metadata": {
        "id": "WzWxLyREj8vD"
      }
    },
    {
      "cell_type": "code",
      "source": [
        "schools.groupby('CITY')['ENROLLMENT'].mean()"
      ],
      "metadata": {
        "colab": {
          "base_uri": "https://localhost:8080/"
        },
        "id": "p-xyLjEANVo0",
        "outputId": "05404b89-d9d9-4a31-ed90-8fcbb5fcbcd1"
      },
      "execution_count": null,
      "outputs": [
        {
          "output_type": "execute_result",
          "data": {
            "text/plain": [
              "CITY\n",
              "Aventura               338.500000\n",
              "Bay Harbor Islands    1438.000000\n",
              "Biscayne Park                 NaN\n",
              "Coral Gables           431.142857\n",
              "Cutler Bay             344.352941\n",
              "Doral                  422.151515\n",
              "El Portal              361.000000\n",
              "Florida City           159.083333\n",
              "Hialeah                232.620000\n",
              "Hialeah                 33.000000\n",
              "Hialeah Gardens        544.000000\n",
              "Homestead              251.446154\n",
              "Key Biscayne           502.500000\n",
              "Medley                   0.000000\n",
              "Miami                  236.724000\n",
              "Miami Beach            360.714286\n",
              "Miami Gardens          245.109375\n",
              "Miami Lakes            409.782609\n",
              "Miami Shore            167.000000\n",
              "Miami Shores           291.125000\n",
              "Miami Springs          245.222222\n",
              "Miami-Dade             362.552239\n",
              "MiamiI Beach            55.000000\n",
              "MiamiI-Dade            265.543478\n",
              "North Bay Village      270.500000\n",
              "North Miami            405.233333\n",
              "North Miami Beach      274.160000\n",
              "Opa-Locka              170.800000\n",
              "Palmetto Bay           388.866667\n",
              "Pinecrest              803.666667\n",
              "South Miami            251.545455\n",
              "Sunny Isles Beach     2090.000000\n",
              "Surfside                      NaN\n",
              "Sweetwater             552.000000\n",
              "Virginia Gardens       283.000000\n",
              "West Miami             246.000000\n",
              "Name: ENROLLMENT, dtype: float64"
            ]
          },
          "metadata": {},
          "execution_count": 41
        }
      ]
    }
  ]
}